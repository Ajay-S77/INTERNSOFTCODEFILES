{
  "nbformat": 4,
  "nbformat_minor": 0,
  "metadata": {
    "kernelspec": {
      "display_name": "Python 3",
      "language": "python",
      "name": "python3"
    },
    "language_info": {
      "codemirror_mode": {
        "name": "ipython",
        "version": 3
      },
      "file_extension": ".py",
      "mimetype": "text/x-python",
      "name": "python",
      "nbconvert_exporter": "python",
      "pygments_lexer": "ipython3",
      "version": "3.8.5"
    },
    "colab": {
      "name": "exec8pandasday8.ipynb",
      "provenance": []
    }
  },
  "cells": [
    {
      "cell_type": "code",
      "metadata": {
        "colab": {
          "base_uri": "https://localhost:8080/",
          "height": 35
        },
        "id": "brMNhHIAYA85",
        "outputId": "c6a45ccb-3ac5-457d-8a72-30eae31266a0"
      },
      "source": [
        "import pandas\n",
        "pandas.__version__"
      ],
      "execution_count": 2,
      "outputs": [
        {
          "output_type": "execute_result",
          "data": {
            "application/vnd.google.colaboratory.intrinsic+json": {
              "type": "string"
            },
            "text/plain": [
              "'1.1.5'"
            ]
          },
          "metadata": {
            "tags": []
          },
          "execution_count": 2
        }
      ]
    },
    {
      "cell_type": "code",
      "metadata": {
        "id": "w7sXZ0f4YA9I"
      },
      "source": [
        "import pandas as pd\n",
        "import numpy as np"
      ],
      "execution_count": 3,
      "outputs": []
    },
    {
      "cell_type": "code",
      "metadata": {
        "id": "K5Q3WAHHYA9L",
        "outputId": "1b3951ff-9f0c-4132-f3f9-c79fac75df8b"
      },
      "source": [
        "np.__version__"
      ],
      "execution_count": null,
      "outputs": [
        {
          "output_type": "execute_result",
          "data": {
            "text/plain": [
              "'1.19.2'"
            ]
          },
          "metadata": {
            "tags": []
          },
          "execution_count": 8
        }
      ]
    },
    {
      "cell_type": "code",
      "metadata": {
        "colab": {
          "base_uri": "https://localhost:8080/"
        },
        "id": "vcTTos5oYA9M",
        "outputId": "47c72bd2-612d-4170-9eb0-267ba0738238"
      },
      "source": [
        "cnt = pd.Series([100,102,104,106,118])\n",
        "cnt"
      ],
      "execution_count": 4,
      "outputs": [
        {
          "output_type": "execute_result",
          "data": {
            "text/plain": [
              "0    100\n",
              "1    102\n",
              "2    104\n",
              "3    106\n",
              "4    118\n",
              "dtype: int64"
            ]
          },
          "metadata": {
            "tags": []
          },
          "execution_count": 4
        }
      ]
    },
    {
      "cell_type": "code",
      "metadata": {
        "colab": {
          "base_uri": "https://localhost:8080/"
        },
        "id": "w4vpKGSXYA9O",
        "outputId": "be228197-7419-4011-a4f8-8e822733fb37"
      },
      "source": [
        "cnt.values"
      ],
      "execution_count": 5,
      "outputs": [
        {
          "output_type": "execute_result",
          "data": {
            "text/plain": [
              "array([100, 102, 104, 106, 118])"
            ]
          },
          "metadata": {
            "tags": []
          },
          "execution_count": 5
        }
      ]
    },
    {
      "cell_type": "code",
      "metadata": {
        "colab": {
          "base_uri": "https://localhost:8080/"
        },
        "id": "97zNCJ82YA9P",
        "outputId": "a6d87cfc-4d8a-445a-f944-d3ed50905fae"
      },
      "source": [
        "cnt.index"
      ],
      "execution_count": 6,
      "outputs": [
        {
          "output_type": "execute_result",
          "data": {
            "text/plain": [
              "RangeIndex(start=0, stop=5, step=1)"
            ]
          },
          "metadata": {
            "tags": []
          },
          "execution_count": 6
        }
      ]
    },
    {
      "cell_type": "code",
      "metadata": {
        "colab": {
          "base_uri": "https://localhost:8080/"
        },
        "id": "cdrdVOjRYA9R",
        "outputId": "65db5b04-f880-4d1d-d44f-5e0441f82150"
      },
      "source": [
        "import pandas as pd\n",
        "b = pd.Series([100,102,104,106],\n",
        "    index = ['rk','ak','ajay','ab'])\n",
        "b"
      ],
      "execution_count": 7,
      "outputs": [
        {
          "output_type": "execute_result",
          "data": {
            "text/plain": [
              "rk      100\n",
              "ak      102\n",
              "ajay    104\n",
              "ab      106\n",
              "dtype: int64"
            ]
          },
          "metadata": {
            "tags": []
          },
          "execution_count": 7
        }
      ]
    },
    {
      "cell_type": "code",
      "metadata": {
        "colab": {
          "base_uri": "https://localhost:8080/"
        },
        "id": "zehoaZQ7YA9S",
        "outputId": "9c5e1060-4bc0-4cf0-f852-699325d598d9"
      },
      "source": [
        "b['ajay']"
      ],
      "execution_count": 8,
      "outputs": [
        {
          "output_type": "execute_result",
          "data": {
            "text/plain": [
              "104"
            ]
          },
          "metadata": {
            "tags": []
          },
          "execution_count": 8
        }
      ]
    },
    {
      "cell_type": "code",
      "metadata": {
        "id": "rZDbRL0UYA9T",
        "outputId": "b98e66b5-2358-4828-a8c7-533caca8b1e5"
      },
      "source": [
        "b.name = 'x'\n",
        "b.index.name = 'id'\n",
        "b"
      ],
      "execution_count": null,
      "outputs": [
        {
          "output_type": "execute_result",
          "data": {
            "text/plain": [
              "id\n",
              "rk    100\n",
              "ak    102\n",
              "aj    104\n",
              "ab    106\n",
              "Name: x, dtype: int64"
            ]
          },
          "metadata": {
            "tags": []
          },
          "execution_count": 26
        }
      ]
    },
    {
      "cell_type": "code",
      "metadata": {
        "id": "Pn2r6e6QYA9V",
        "outputId": "fd994bc1-8ba4-4a97-9817-db71c717f623"
      },
      "source": [
        "b[0]"
      ],
      "execution_count": null,
      "outputs": [
        {
          "output_type": "execute_result",
          "data": {
            "text/plain": [
              "100"
            ]
          },
          "metadata": {
            "tags": []
          },
          "execution_count": 27
        }
      ]
    },
    {
      "cell_type": "code",
      "metadata": {
        "id": "WM6dyU20YA9W",
        "outputId": "565d2463-115e-4477-fd39-8c6e67074adc"
      },
      "source": [
        "np.log(b)"
      ],
      "execution_count": null,
      "outputs": [
        {
          "output_type": "execute_result",
          "data": {
            "text/plain": [
              "id\n",
              "rk    4.605170\n",
              "ak    4.624973\n",
              "aj    4.644391\n",
              "ab    4.663439\n",
              "Name: x, dtype: float64"
            ]
          },
          "metadata": {
            "tags": []
          },
          "execution_count": 28
        }
      ]
    },
    {
      "cell_type": "code",
      "metadata": {
        "id": "zxP3sz-KYA9Y",
        "outputId": "50c91b6a-ae51-4af5-f0c9-cdd240080bef"
      },
      "source": [
        "b[b>110]"
      ],
      "execution_count": null,
      "outputs": [
        {
          "output_type": "execute_result",
          "data": {
            "text/plain": [
              "Series([], Name: x, dtype: int64)"
            ]
          },
          "metadata": {
            "tags": []
          },
          "execution_count": 31
        }
      ]
    },
    {
      "cell_type": "code",
      "metadata": {
        "id": "BOsNkyVXYA9Z",
        "outputId": "afc2ff95-d169-4df4-d3c5-c48de9c3d9d2"
      },
      "source": [
        "b[b>102]"
      ],
      "execution_count": null,
      "outputs": [
        {
          "output_type": "execute_result",
          "data": {
            "text/plain": [
              "id\n",
              "aj    104\n",
              "ab    106\n",
              "Name: x, dtype: int64"
            ]
          },
          "metadata": {
            "tags": []
          },
          "execution_count": 33
        }
      ]
    },
    {
      "cell_type": "code",
      "metadata": {
        "colab": {
          "base_uri": "https://localhost:8080/"
        },
        "id": "TWnD8BzrYA9b",
        "outputId": "c3e0528c-ee56-42d5-dae1-d3fb8cec354e"
      },
      "source": [
        "b_dict = {'rk':10,'rj':12,'aj':14,'ab':16,'ab':18}\n",
        "print(b_dict)"
      ],
      "execution_count": 9,
      "outputs": [
        {
          "output_type": "stream",
          "text": [
            "{'rk': 10, 'rj': 12, 'aj': 14, 'ab': 18}\n"
          ],
          "name": "stdout"
        }
      ]
    },
    {
      "cell_type": "code",
      "metadata": {
        "id": "2Lx3SfX9YA9d",
        "outputId": "ee443c20-fd0d-484b-a416-f40036d100ae"
      },
      "source": [
        "pd.Series(b_dict)"
      ],
      "execution_count": null,
      "outputs": [
        {
          "output_type": "execute_result",
          "data": {
            "text/plain": [
              "rk    10\n",
              "rj    12\n",
              "aj    14\n",
              "ab    18\n",
              "dtype: int64"
            ]
          },
          "metadata": {
            "tags": []
          },
          "execution_count": 35
        }
      ]
    },
    {
      "cell_type": "code",
      "metadata": {
        "id": "Ku43Fy9xYA9f"
      },
      "source": [
        "d = {\"Sname\":[\"SACHIN\",\"ABHINAV\",\"AJAY\",\"ABHISHEK\"],\n",
        "    \"Year\":[2017,2017,2017,2016],\n",
        "    \"Rate\":[10,9,9,9]}"
      ],
      "execution_count": 10,
      "outputs": []
    },
    {
      "cell_type": "code",
      "metadata": {
        "colab": {
          "base_uri": "https://localhost:8080/"
        },
        "id": "6B98ZinaYA9g",
        "outputId": "43c5a04b-627b-4fb7-cacb-c324494cf462"
      },
      "source": [
        "print(d)"
      ],
      "execution_count": 11,
      "outputs": [
        {
          "output_type": "stream",
          "text": [
            "{'Sname': ['SACHIN', 'ABHINAV', 'AJAY', 'ABHISHEK'], 'Year': [2017, 2017, 2017, 2016], 'Rate': [10, 9, 9, 9]}\n"
          ],
          "name": "stdout"
        }
      ]
    },
    {
      "cell_type": "code",
      "metadata": {
        "colab": {
          "base_uri": "https://localhost:8080/",
          "height": 173
        },
        "id": "5hJOE3krYA9h",
        "outputId": "d6c71c76-1f10-4532-aa4b-23a2a508c029"
      },
      "source": [
        "d=pd.DataFrame(d)\n",
        "d"
      ],
      "execution_count": 12,
      "outputs": [
        {
          "output_type": "execute_result",
          "data": {
            "text/html": [
              "<div>\n",
              "<style scoped>\n",
              "    .dataframe tbody tr th:only-of-type {\n",
              "        vertical-align: middle;\n",
              "    }\n",
              "\n",
              "    .dataframe tbody tr th {\n",
              "        vertical-align: top;\n",
              "    }\n",
              "\n",
              "    .dataframe thead th {\n",
              "        text-align: right;\n",
              "    }\n",
              "</style>\n",
              "<table border=\"1\" class=\"dataframe\">\n",
              "  <thead>\n",
              "    <tr style=\"text-align: right;\">\n",
              "      <th></th>\n",
              "      <th>Sname</th>\n",
              "      <th>Year</th>\n",
              "      <th>Rate</th>\n",
              "    </tr>\n",
              "  </thead>\n",
              "  <tbody>\n",
              "    <tr>\n",
              "      <th>0</th>\n",
              "      <td>SACHIN</td>\n",
              "      <td>2017</td>\n",
              "      <td>10</td>\n",
              "    </tr>\n",
              "    <tr>\n",
              "      <th>1</th>\n",
              "      <td>ABHINAV</td>\n",
              "      <td>2017</td>\n",
              "      <td>9</td>\n",
              "    </tr>\n",
              "    <tr>\n",
              "      <th>2</th>\n",
              "      <td>AJAY</td>\n",
              "      <td>2017</td>\n",
              "      <td>9</td>\n",
              "    </tr>\n",
              "    <tr>\n",
              "      <th>3</th>\n",
              "      <td>ABHISHEK</td>\n",
              "      <td>2016</td>\n",
              "      <td>9</td>\n",
              "    </tr>\n",
              "  </tbody>\n",
              "</table>\n",
              "</div>"
            ],
            "text/plain": [
              "      Sname  Year  Rate\n",
              "0    SACHIN  2017    10\n",
              "1   ABHINAV  2017     9\n",
              "2      AJAY  2017     9\n",
              "3  ABHISHEK  2016     9"
            ]
          },
          "metadata": {
            "tags": []
          },
          "execution_count": 12
        }
      ]
    },
    {
      "cell_type": "code",
      "metadata": {
        "colab": {
          "base_uri": "https://localhost:8080/"
        },
        "id": "yetLuWCiYA9i",
        "outputId": "24319431-789a-40b6-9236-a64221077762"
      },
      "source": [
        "df = pd.DataFrame(d,columns=[\"Year\",\"Sname\",\"Rate\"])\n",
        "print(df)"
      ],
      "execution_count": 13,
      "outputs": [
        {
          "output_type": "stream",
          "text": [
            "   Year     Sname  Rate\n",
            "0  2017    SACHIN    10\n",
            "1  2017   ABHINAV     9\n",
            "2  2017      AJAY     9\n",
            "3  2016  ABHISHEK     9\n"
          ],
          "name": "stdout"
        }
      ]
    },
    {
      "cell_type": "code",
      "metadata": {
        "colab": {
          "base_uri": "https://localhost:8080/",
          "height": 173
        },
        "id": "DbZmBJ3iYA9j",
        "outputId": "ed51db61-b1f6-4632-b0b2-a7b1dbcff2d9"
      },
      "source": [
        "df['NewCol']=df.Year/df.Rate\n",
        "df"
      ],
      "execution_count": 14,
      "outputs": [
        {
          "output_type": "execute_result",
          "data": {
            "text/html": [
              "<div>\n",
              "<style scoped>\n",
              "    .dataframe tbody tr th:only-of-type {\n",
              "        vertical-align: middle;\n",
              "    }\n",
              "\n",
              "    .dataframe tbody tr th {\n",
              "        vertical-align: top;\n",
              "    }\n",
              "\n",
              "    .dataframe thead th {\n",
              "        text-align: right;\n",
              "    }\n",
              "</style>\n",
              "<table border=\"1\" class=\"dataframe\">\n",
              "  <thead>\n",
              "    <tr style=\"text-align: right;\">\n",
              "      <th></th>\n",
              "      <th>Year</th>\n",
              "      <th>Sname</th>\n",
              "      <th>Rate</th>\n",
              "      <th>NewCol</th>\n",
              "    </tr>\n",
              "  </thead>\n",
              "  <tbody>\n",
              "    <tr>\n",
              "      <th>0</th>\n",
              "      <td>2017</td>\n",
              "      <td>SACHIN</td>\n",
              "      <td>10</td>\n",
              "      <td>201.700000</td>\n",
              "    </tr>\n",
              "    <tr>\n",
              "      <th>1</th>\n",
              "      <td>2017</td>\n",
              "      <td>ABHINAV</td>\n",
              "      <td>9</td>\n",
              "      <td>224.111111</td>\n",
              "    </tr>\n",
              "    <tr>\n",
              "      <th>2</th>\n",
              "      <td>2017</td>\n",
              "      <td>AJAY</td>\n",
              "      <td>9</td>\n",
              "      <td>224.111111</td>\n",
              "    </tr>\n",
              "    <tr>\n",
              "      <th>3</th>\n",
              "      <td>2016</td>\n",
              "      <td>ABHISHEK</td>\n",
              "      <td>9</td>\n",
              "      <td>224.000000</td>\n",
              "    </tr>\n",
              "  </tbody>\n",
              "</table>\n",
              "</div>"
            ],
            "text/plain": [
              "   Year     Sname  Rate      NewCol\n",
              "0  2017    SACHIN    10  201.700000\n",
              "1  2017   ABHINAV     9  224.111111\n",
              "2  2017      AJAY     9  224.111111\n",
              "3  2016  ABHISHEK     9  224.000000"
            ]
          },
          "metadata": {
            "tags": []
          },
          "execution_count": 14
        }
      ]
    },
    {
      "cell_type": "code",
      "metadata": {
        "colab": {
          "base_uri": "https://localhost:8080/",
          "height": 173
        },
        "id": "S1RhnvDPYA9k",
        "outputId": "4dd3a588-11c2-4637-8dd3-ddbb4abbeb52"
      },
      "source": [
        "df['Serie_Aligned'] = pd.Series(range(4), index =[0,1,2,3,])\n",
        "df"
      ],
      "execution_count": 15,
      "outputs": [
        {
          "output_type": "execute_result",
          "data": {
            "text/html": [
              "<div>\n",
              "<style scoped>\n",
              "    .dataframe tbody tr th:only-of-type {\n",
              "        vertical-align: middle;\n",
              "    }\n",
              "\n",
              "    .dataframe tbody tr th {\n",
              "        vertical-align: top;\n",
              "    }\n",
              "\n",
              "    .dataframe thead th {\n",
              "        text-align: right;\n",
              "    }\n",
              "</style>\n",
              "<table border=\"1\" class=\"dataframe\">\n",
              "  <thead>\n",
              "    <tr style=\"text-align: right;\">\n",
              "      <th></th>\n",
              "      <th>Year</th>\n",
              "      <th>Sname</th>\n",
              "      <th>Rate</th>\n",
              "      <th>NewCol</th>\n",
              "      <th>Serie_Aligned</th>\n",
              "    </tr>\n",
              "  </thead>\n",
              "  <tbody>\n",
              "    <tr>\n",
              "      <th>0</th>\n",
              "      <td>2017</td>\n",
              "      <td>SACHIN</td>\n",
              "      <td>10</td>\n",
              "      <td>201.700000</td>\n",
              "      <td>0</td>\n",
              "    </tr>\n",
              "    <tr>\n",
              "      <th>1</th>\n",
              "      <td>2017</td>\n",
              "      <td>ABHINAV</td>\n",
              "      <td>9</td>\n",
              "      <td>224.111111</td>\n",
              "      <td>1</td>\n",
              "    </tr>\n",
              "    <tr>\n",
              "      <th>2</th>\n",
              "      <td>2017</td>\n",
              "      <td>AJAY</td>\n",
              "      <td>9</td>\n",
              "      <td>224.111111</td>\n",
              "      <td>2</td>\n",
              "    </tr>\n",
              "    <tr>\n",
              "      <th>3</th>\n",
              "      <td>2016</td>\n",
              "      <td>ABHISHEK</td>\n",
              "      <td>9</td>\n",
              "      <td>224.000000</td>\n",
              "      <td>3</td>\n",
              "    </tr>\n",
              "  </tbody>\n",
              "</table>\n",
              "</div>"
            ],
            "text/plain": [
              "   Year     Sname  Rate      NewCol  Serie_Aligned\n",
              "0  2017    SACHIN    10  201.700000              0\n",
              "1  2017   ABHINAV     9  224.111111              1\n",
              "2  2017      AJAY     9  224.111111              2\n",
              "3  2016  ABHISHEK     9  224.000000              3"
            ]
          },
          "metadata": {
            "tags": []
          },
          "execution_count": 15
        }
      ]
    },
    {
      "cell_type": "code",
      "metadata": {
        "scrolled": true,
        "colab": {
          "base_uri": "https://localhost:8080/"
        },
        "id": "SUUs29StYA9l",
        "outputId": "302fe526-43a1-4afb-9e26-bbbdf8a4e6f4"
      },
      "source": [
        "df.to_dict()"
      ],
      "execution_count": 16,
      "outputs": [
        {
          "output_type": "execute_result",
          "data": {
            "text/plain": [
              "{'NewCol': {0: 201.7, 1: 224.11111111111111, 2: 224.11111111111111, 3: 224.0},\n",
              " 'Rate': {0: 10, 1: 9, 2: 9, 3: 9},\n",
              " 'Serie_Aligned': {0: 0, 1: 1, 2: 2, 3: 3},\n",
              " 'Sname': {0: 'SACHIN', 1: 'ABHINAV', 2: 'AJAY', 3: 'ABHISHEK'},\n",
              " 'Year': {0: 2017, 1: 2017, 2: 2017, 3: 2016}}"
            ]
          },
          "metadata": {
            "tags": []
          },
          "execution_count": 16
        }
      ]
    },
    {
      "cell_type": "code",
      "metadata": {
        "colab": {
          "base_uri": "https://localhost:8080/",
          "height": 173
        },
        "id": "PLUCWo-gYA9m",
        "outputId": "b90294b6-052e-4b5d-e758-9591bf852234"
      },
      "source": [
        "pd.DataFrame(df.to_dict())"
      ],
      "execution_count": 17,
      "outputs": [
        {
          "output_type": "execute_result",
          "data": {
            "text/html": [
              "<div>\n",
              "<style scoped>\n",
              "    .dataframe tbody tr th:only-of-type {\n",
              "        vertical-align: middle;\n",
              "    }\n",
              "\n",
              "    .dataframe tbody tr th {\n",
              "        vertical-align: top;\n",
              "    }\n",
              "\n",
              "    .dataframe thead th {\n",
              "        text-align: right;\n",
              "    }\n",
              "</style>\n",
              "<table border=\"1\" class=\"dataframe\">\n",
              "  <thead>\n",
              "    <tr style=\"text-align: right;\">\n",
              "      <th></th>\n",
              "      <th>Year</th>\n",
              "      <th>Sname</th>\n",
              "      <th>Rate</th>\n",
              "      <th>NewCol</th>\n",
              "      <th>Serie_Aligned</th>\n",
              "    </tr>\n",
              "  </thead>\n",
              "  <tbody>\n",
              "    <tr>\n",
              "      <th>0</th>\n",
              "      <td>2017</td>\n",
              "      <td>SACHIN</td>\n",
              "      <td>10</td>\n",
              "      <td>201.700000</td>\n",
              "      <td>0</td>\n",
              "    </tr>\n",
              "    <tr>\n",
              "      <th>1</th>\n",
              "      <td>2017</td>\n",
              "      <td>ABHINAV</td>\n",
              "      <td>9</td>\n",
              "      <td>224.111111</td>\n",
              "      <td>1</td>\n",
              "    </tr>\n",
              "    <tr>\n",
              "      <th>2</th>\n",
              "      <td>2017</td>\n",
              "      <td>AJAY</td>\n",
              "      <td>9</td>\n",
              "      <td>224.111111</td>\n",
              "      <td>2</td>\n",
              "    </tr>\n",
              "    <tr>\n",
              "      <th>3</th>\n",
              "      <td>2016</td>\n",
              "      <td>ABHISHEK</td>\n",
              "      <td>9</td>\n",
              "      <td>224.000000</td>\n",
              "      <td>3</td>\n",
              "    </tr>\n",
              "  </tbody>\n",
              "</table>\n",
              "</div>"
            ],
            "text/plain": [
              "   Year     Sname  Rate      NewCol  Serie_Aligned\n",
              "0  2017    SACHIN    10  201.700000              0\n",
              "1  2017   ABHINAV     9  224.111111              1\n",
              "2  2017      AJAY     9  224.111111              2\n",
              "3  2016  ABHISHEK     9  224.000000              3"
            ]
          },
          "metadata": {
            "tags": []
          },
          "execution_count": 17
        }
      ]
    },
    {
      "cell_type": "code",
      "metadata": {
        "colab": {
          "base_uri": "https://localhost:8080/",
          "height": 252
        },
        "id": "4AknsxzzYA9n",
        "outputId": "ac09ee33-5efa-452c-f948-f44035f40359"
      },
      "source": [
        "data = [{'a':i,'b':10*i}for i in range(6)]\n",
        "print(data)\n",
        "pd.DataFrame(data)"
      ],
      "execution_count": 18,
      "outputs": [
        {
          "output_type": "stream",
          "text": [
            "[{'a': 0, 'b': 0}, {'a': 1, 'b': 10}, {'a': 2, 'b': 20}, {'a': 3, 'b': 30}, {'a': 4, 'b': 40}, {'a': 5, 'b': 50}]\n"
          ],
          "name": "stdout"
        },
        {
          "output_type": "execute_result",
          "data": {
            "text/html": [
              "<div>\n",
              "<style scoped>\n",
              "    .dataframe tbody tr th:only-of-type {\n",
              "        vertical-align: middle;\n",
              "    }\n",
              "\n",
              "    .dataframe tbody tr th {\n",
              "        vertical-align: top;\n",
              "    }\n",
              "\n",
              "    .dataframe thead th {\n",
              "        text-align: right;\n",
              "    }\n",
              "</style>\n",
              "<table border=\"1\" class=\"dataframe\">\n",
              "  <thead>\n",
              "    <tr style=\"text-align: right;\">\n",
              "      <th></th>\n",
              "      <th>a</th>\n",
              "      <th>b</th>\n",
              "    </tr>\n",
              "  </thead>\n",
              "  <tbody>\n",
              "    <tr>\n",
              "      <th>0</th>\n",
              "      <td>0</td>\n",
              "      <td>0</td>\n",
              "    </tr>\n",
              "    <tr>\n",
              "      <th>1</th>\n",
              "      <td>1</td>\n",
              "      <td>10</td>\n",
              "    </tr>\n",
              "    <tr>\n",
              "      <th>2</th>\n",
              "      <td>2</td>\n",
              "      <td>20</td>\n",
              "    </tr>\n",
              "    <tr>\n",
              "      <th>3</th>\n",
              "      <td>3</td>\n",
              "      <td>30</td>\n",
              "    </tr>\n",
              "    <tr>\n",
              "      <th>4</th>\n",
              "      <td>4</td>\n",
              "      <td>40</td>\n",
              "    </tr>\n",
              "    <tr>\n",
              "      <th>5</th>\n",
              "      <td>5</td>\n",
              "      <td>50</td>\n",
              "    </tr>\n",
              "  </tbody>\n",
              "</table>\n",
              "</div>"
            ],
            "text/plain": [
              "   a   b\n",
              "0  0   0\n",
              "1  1  10\n",
              "2  2  20\n",
              "3  3  30\n",
              "4  4  40\n",
              "5  5  50"
            ]
          },
          "metadata": {
            "tags": []
          },
          "execution_count": 18
        }
      ]
    },
    {
      "cell_type": "code",
      "metadata": {
        "colab": {
          "base_uri": "https://localhost:8080/",
          "height": 111
        },
        "id": "1_jLJUZSYA9o",
        "outputId": "6d92d2b7-ee4a-49ec-8960-96894a1c9e53"
      },
      "source": [
        "pd.DataFrame([{'aa':1,'bb':2},{'bb':3,'cc':6}])"
      ],
      "execution_count": 19,
      "outputs": [
        {
          "output_type": "execute_result",
          "data": {
            "text/html": [
              "<div>\n",
              "<style scoped>\n",
              "    .dataframe tbody tr th:only-of-type {\n",
              "        vertical-align: middle;\n",
              "    }\n",
              "\n",
              "    .dataframe tbody tr th {\n",
              "        vertical-align: top;\n",
              "    }\n",
              "\n",
              "    .dataframe thead th {\n",
              "        text-align: right;\n",
              "    }\n",
              "</style>\n",
              "<table border=\"1\" class=\"dataframe\">\n",
              "  <thead>\n",
              "    <tr style=\"text-align: right;\">\n",
              "      <th></th>\n",
              "      <th>aa</th>\n",
              "      <th>bb</th>\n",
              "      <th>cc</th>\n",
              "    </tr>\n",
              "  </thead>\n",
              "  <tbody>\n",
              "    <tr>\n",
              "      <th>0</th>\n",
              "      <td>1.0</td>\n",
              "      <td>2</td>\n",
              "      <td>NaN</td>\n",
              "    </tr>\n",
              "    <tr>\n",
              "      <th>1</th>\n",
              "      <td>NaN</td>\n",
              "      <td>3</td>\n",
              "      <td>6.0</td>\n",
              "    </tr>\n",
              "  </tbody>\n",
              "</table>\n",
              "</div>"
            ],
            "text/plain": [
              "    aa  bb   cc\n",
              "0  1.0   2  NaN\n",
              "1  NaN   3  6.0"
            ]
          },
          "metadata": {
            "tags": []
          },
          "execution_count": 19
        }
      ]
    },
    {
      "cell_type": "code",
      "metadata": {
        "colab": {
          "base_uri": "https://localhost:8080/"
        },
        "id": "b0MOfRlPYA9q",
        "outputId": "479a5863-e77e-48f1-ddab-e19a39c1ff7b"
      },
      "source": [
        "x = [{'u':i*i,'b':100*i}for i in range(10)]\n",
        "print(x)"
      ],
      "execution_count": 20,
      "outputs": [
        {
          "output_type": "stream",
          "text": [
            "[{'u': 0, 'b': 0}, {'u': 1, 'b': 100}, {'u': 4, 'b': 200}, {'u': 9, 'b': 300}, {'u': 16, 'b': 400}, {'u': 25, 'b': 500}, {'u': 36, 'b': 600}, {'u': 49, 'b': 700}, {'u': 64, 'b': 800}, {'u': 81, 'b': 900}]\n"
          ],
          "name": "stdout"
        }
      ]
    },
    {
      "cell_type": "code",
      "metadata": {
        "colab": {
          "base_uri": "https://localhost:8080/",
          "height": 359
        },
        "id": "QBu2rnuDYA9s",
        "outputId": "80390076-4b89-4906-cb9b-9b3eaa91201e"
      },
      "source": [
        "pd.DataFrame(x)"
      ],
      "execution_count": 21,
      "outputs": [
        {
          "output_type": "execute_result",
          "data": {
            "text/html": [
              "<div>\n",
              "<style scoped>\n",
              "    .dataframe tbody tr th:only-of-type {\n",
              "        vertical-align: middle;\n",
              "    }\n",
              "\n",
              "    .dataframe tbody tr th {\n",
              "        vertical-align: top;\n",
              "    }\n",
              "\n",
              "    .dataframe thead th {\n",
              "        text-align: right;\n",
              "    }\n",
              "</style>\n",
              "<table border=\"1\" class=\"dataframe\">\n",
              "  <thead>\n",
              "    <tr style=\"text-align: right;\">\n",
              "      <th></th>\n",
              "      <th>u</th>\n",
              "      <th>b</th>\n",
              "    </tr>\n",
              "  </thead>\n",
              "  <tbody>\n",
              "    <tr>\n",
              "      <th>0</th>\n",
              "      <td>0</td>\n",
              "      <td>0</td>\n",
              "    </tr>\n",
              "    <tr>\n",
              "      <th>1</th>\n",
              "      <td>1</td>\n",
              "      <td>100</td>\n",
              "    </tr>\n",
              "    <tr>\n",
              "      <th>2</th>\n",
              "      <td>4</td>\n",
              "      <td>200</td>\n",
              "    </tr>\n",
              "    <tr>\n",
              "      <th>3</th>\n",
              "      <td>9</td>\n",
              "      <td>300</td>\n",
              "    </tr>\n",
              "    <tr>\n",
              "      <th>4</th>\n",
              "      <td>16</td>\n",
              "      <td>400</td>\n",
              "    </tr>\n",
              "    <tr>\n",
              "      <th>5</th>\n",
              "      <td>25</td>\n",
              "      <td>500</td>\n",
              "    </tr>\n",
              "    <tr>\n",
              "      <th>6</th>\n",
              "      <td>36</td>\n",
              "      <td>600</td>\n",
              "    </tr>\n",
              "    <tr>\n",
              "      <th>7</th>\n",
              "      <td>49</td>\n",
              "      <td>700</td>\n",
              "    </tr>\n",
              "    <tr>\n",
              "      <th>8</th>\n",
              "      <td>64</td>\n",
              "      <td>800</td>\n",
              "    </tr>\n",
              "    <tr>\n",
              "      <th>9</th>\n",
              "      <td>81</td>\n",
              "      <td>900</td>\n",
              "    </tr>\n",
              "  </tbody>\n",
              "</table>\n",
              "</div>"
            ],
            "text/plain": [
              "    u    b\n",
              "0   0    0\n",
              "1   1  100\n",
              "2   4  200\n",
              "3   9  300\n",
              "4  16  400\n",
              "5  25  500\n",
              "6  36  600\n",
              "7  49  700\n",
              "8  64  800\n",
              "9  81  900"
            ]
          },
          "metadata": {
            "tags": []
          },
          "execution_count": 21
        }
      ]
    },
    {
      "cell_type": "code",
      "metadata": {
        "colab": {
          "base_uri": "https://localhost:8080/",
          "height": 111
        },
        "id": "AbpCmIrFYA9t",
        "outputId": "22dafde5-a1f0-4896-e138-da3890aff29e"
      },
      "source": [
        "y = [{'u':1,'v':2},{'u':3,'w':4}]\n",
        "pd.DataFrame(y)"
      ],
      "execution_count": 22,
      "outputs": [
        {
          "output_type": "execute_result",
          "data": {
            "text/html": [
              "<div>\n",
              "<style scoped>\n",
              "    .dataframe tbody tr th:only-of-type {\n",
              "        vertical-align: middle;\n",
              "    }\n",
              "\n",
              "    .dataframe tbody tr th {\n",
              "        vertical-align: top;\n",
              "    }\n",
              "\n",
              "    .dataframe thead th {\n",
              "        text-align: right;\n",
              "    }\n",
              "</style>\n",
              "<table border=\"1\" class=\"dataframe\">\n",
              "  <thead>\n",
              "    <tr style=\"text-align: right;\">\n",
              "      <th></th>\n",
              "      <th>u</th>\n",
              "      <th>v</th>\n",
              "      <th>w</th>\n",
              "    </tr>\n",
              "  </thead>\n",
              "  <tbody>\n",
              "    <tr>\n",
              "      <th>0</th>\n",
              "      <td>1</td>\n",
              "      <td>2.0</td>\n",
              "      <td>NaN</td>\n",
              "    </tr>\n",
              "    <tr>\n",
              "      <th>1</th>\n",
              "      <td>3</td>\n",
              "      <td>NaN</td>\n",
              "      <td>4.0</td>\n",
              "    </tr>\n",
              "  </tbody>\n",
              "</table>\n",
              "</div>"
            ],
            "text/plain": [
              "   u    v    w\n",
              "0  1  2.0  NaN\n",
              "1  3  NaN  4.0"
            ]
          },
          "metadata": {
            "tags": []
          },
          "execution_count": 22
        }
      ]
    },
    {
      "cell_type": "code",
      "metadata": {
        "id": "99AO5dRhYA9u"
      },
      "source": [
        "#NaN means Not a Number"
      ],
      "execution_count": 23,
      "outputs": []
    }
  ]
}