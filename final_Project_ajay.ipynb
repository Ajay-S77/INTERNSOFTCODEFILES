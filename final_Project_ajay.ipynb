{
  "nbformat": 4,
  "nbformat_minor": 0,
  "metadata": {
    "colab": {
      "name": "final_Project_ajay.ipynb",
      "provenance": []
    },
    "kernelspec": {
      "display_name": "Python 3",
      "language": "python",
      "name": "python3"
    },
    "language_info": {
      "codemirror_mode": {
        "name": "ipython",
        "version": 3
      },
      "file_extension": ".py",
      "mimetype": "text/x-python",
      "name": "python",
      "nbconvert_exporter": "python",
      "pygments_lexer": "ipython3",
      "version": "3.7.6"
    }
  },
  "cells": [
    {
      "cell_type": "code",
      "metadata": {
        "id": "L6Wv6WNccogc"
      },
      "source": [
        "import os\n",
        "import time\n",
        "import subprocess\n",
        "import json"
      ],
      "execution_count": null,
      "outputs": []
    },
    {
      "cell_type": "code",
      "metadata": {
        "id": "vEk9fns6cogz"
      },
      "source": [
        "import wolframalpha\n",
        "import requests\n",
        "import webbrowser\n",
        "import wikipedia\n",
        "import datetime"
      ],
      "execution_count": null,
      "outputs": []
    },
    {
      "cell_type": "code",
      "metadata": {
        "id": "XxFQI_L6cog2"
      },
      "source": [
        "import speech_recognition as sr\n",
        "import pyttsx3"
      ],
      "execution_count": null,
      "outputs": []
    },
    {
      "cell_type": "code",
      "metadata": {
        "colab": {
          "base_uri": "https://localhost:8080/"
        },
        "id": "ZzDc8Q3Qcog4",
        "outputId": "abfd0ef4-2a05-4ed4-f4a2-3bffe87baace"
      },
      "source": [
        "print('LOADING YOUR A.I PERSONAL ASSISTANT JARVIS')"
      ],
      "execution_count": null,
      "outputs": [
        {
          "output_type": "stream",
          "text": [
            "LOADING YOUR A.I PERSONAL ASSISTANT JARVIS\n"
          ],
          "name": "stdout"
        }
      ]
    },
    {
      "cell_type": "code",
      "metadata": {
        "id": "9wu_TXg6cog8"
      },
      "source": [
        "engine = pyttsx3.init('sapi5')"
      ],
      "execution_count": null,
      "outputs": []
    },
    {
      "cell_type": "code",
      "metadata": {
        "id": "mlByMav4cog9"
      },
      "source": [
        "voices = engine.getProperty('voices')\n",
        "engine.setProperty(\"voice\",'voices[0].id')"
      ],
      "execution_count": null,
      "outputs": []
    },
    {
      "cell_type": "code",
      "metadata": {
        "id": "D8UfT48bcog_"
      },
      "source": [
        "def speak(text):\n",
        "    engine.say(text)\n",
        "    engine.runAndWait()"
      ],
      "execution_count": null,
      "outputs": []
    },
    {
      "cell_type": "code",
      "metadata": {
        "id": "vEpYUawscohA"
      },
      "source": [
        "def wishMe():\n",
        "    hour = datetime.datetime.now().hour\n",
        "    if hour >= 0 and hour < 12:\n",
        "        speak(\"hello, good morning Mr. AJAY\")\n",
        "        print(\"hello, good morning Mr. AJAY\")\n",
        "    elif hour >=12 and hour <=18:\n",
        "        speak(\"hello, good afternoon Mr. AJAY\")\n",
        "        print(\"hello, good afternoon Mr. AJAY\")\n",
        "    else:\n",
        "        speak(\"hello, good evening Mr. AJAY\")\n",
        "        print(\"hello, good evening Mr. AJAY\")"
      ],
      "execution_count": null,
      "outputs": []
    },
    {
      "cell_type": "code",
      "metadata": {
        "id": "6xuJZY1RcohB"
      },
      "source": [
        "def takeCommand():\n",
        "    r=sr.Recognizer()\n",
        "    with sr.Microphone() as source:\n",
        "        print(\" I am Listening\")\n",
        "        audio = r.listen(source)\n",
        "        \n",
        "        try:\n",
        "            statement = r.recognize_google(audio,language='en-in')\n",
        "            print(f\"User said:{statement}\\n\")\n",
        "            \n",
        "        except Exeception as e:\n",
        "            speak(\"pardon me, can u say again \")\n",
        "            return \"None\"\n",
        "        return statement"
      ],
      "execution_count": null,
      "outputs": []
    },
    {
      "cell_type": "code",
      "metadata": {
        "id": "mcmfQIWMcohC",
        "outputId": "d17e995f-8d39-4189-97fd-cd8bd4ca53ca"
      },
      "source": [
        "speak(\"LOADING YOUR PERSONAL A.I ASSISTANT JARVIS\")\n",
        "wishMe()"
      ],
      "execution_count": null,
      "outputs": [
        {
          "output_type": "stream",
          "text": [
            "hello, good evening Mr. AJAY\n"
          ],
          "name": "stdout"
        }
      ]
    },
    {
      "cell_type": "code",
      "metadata": {
        "id": "5I5JAI6qcohF",
        "outputId": "1cca8a58-3c04-4190-da8e-ebadad3759fd"
      },
      "source": [
        "speak(\"LOADING YOUR PERSONAL A.I ASSISTANT JARVIS\")\n",
        "wishMe()\n",
        "\n",
        "if __name__=='__main__':\n",
        "    while True:\n",
        "        speak(\"How can i help you?\")\n",
        "        statement = takeCommand().lower()\n",
        "        if statement == 0:\n",
        "            continue\n",
        "            \n",
        "        if \"good bye\" in statement or \"ok bye\" in statement or \"stop\" in statement:\n",
        "            speak(\"Your personal AI assistant Jarvis is shutting down, Good Bye\")\n",
        "            print(\"Your personal AI assistant Jarvis is shutting down, Good Bye\")\n",
        "            break\n",
        "            \n",
        "        if 'wikipedia' in statement:\n",
        "            speak(\"searching wikipedia....\")\n",
        "            statement = statement.replace(\"wikipedia\",\" \")\n",
        "            results = wikipedia.summary(statement,sentences = 3)\n",
        "            speak(\"According to wikipedia...\")\n",
        "            print(results)\n",
        "            speak(results)\n",
        "            \n",
        "        elif \"open youtube\" in statement:\n",
        "            webbrowser.open_new_tab(\"https://www.youtube.com\")\n",
        "            speak(\"Youtube is open for you\")\n",
        "            time.sleep(5)\n",
        "            \n",
        "        elif \"open google\" in statement:\n",
        "            webbrowser.open_new_tab(\"https://www.google.com\")\n",
        "            speak(\"Google Search engine is open for you\")\n",
        "            time.sleep(5)\n",
        "            \n",
        "        elif \"open gmail\" in statement:\n",
        "            webbrowser.open_new_tab(\"gmail.com\")\n",
        "            speak(\"your gmail is open for you\")\n",
        "            time.sleep(5)\n",
        "            \n",
        "        elif \"weather\" in statement:\n",
        "            api_key=\"886705b4c1182eb1c69f28eb8c520e20\"\n",
        "            base_url =\"https://api.openweathermap.org/data/2.5/weather?\"\n",
        "            speak(\"Whats the city name\")\n",
        "            city_name= takeCommand()\n",
        "            complete_url = base_url + \"q=\" + city_name + \"&appid=\" + api_key\n",
        "            response = requests.get(complete_url)\n",
        "            x = response.json()\n",
        "            if x[\"cod\"]!= \"404\":\n",
        "                y = x[\"main\"]\n",
        "                current_temperature= y[\"temp\"]\n",
        "                current_humidity = y[\"humidity\"]\n",
        "                z = x[\"weather\"]\n",
        "                weather_description =z[0][\"description\"]\n",
        "                speak(\"the temperature in kalvin units is\" + str(current_temperature) + \"\\n humidity in percentage is\" + str(current_humidity) +\"\\n weather description\" + str(weather_description))\n",
        "                print(\"the temperature in kalvin units is\" + str(current_temperature) + \"\\n humidity in percentage is\" + str(current_humidity) + \"\\n weather description\" + str(weather_description))\n",
        "            else:\n",
        "                speak(\"City not Found\")\n",
        "                print(\"City not Found\")\n",
        "                \n",
        "        elif \"time\" in statement:\n",
        "            strtime =datetime.datetime.now().strftime(\"%H:%M:%S\")\n",
        "            speak(\"the time is {strtime} \")\n",
        "            \n",
        "        elif \"who are you\"in statement or \"what can you do\" in statement:\n",
        "            speak(\"Hi i am jarvis I work as a assistance for the system please fill free to work with me....!!\")\n",
        "        \n",
        "        elif \"who made you\" in statement or \"who created you \" in statement:\n",
        "            speak(\"Intern Rohit taken from IRON MAN Movie..!!\")\n",
        "            \n",
        "        elif \"open stack overflow\" in statement:\n",
        "            webbrowser.open_new_tab(\"https://stackoverflow.com/login\")\n",
        "            time.sleep(5)\n",
        "            \n",
        "        elif \"news\" in statement:\n",
        "            new = webbrowser.open_new_tab(\"https://timesofindia.indiatimes.com/home/headlines\")\n",
        "            speak(\"here are some headlines for you from times of India -happ reading\")\n",
        "            time.sleep(7)\n",
        "            \n",
        "        elif \"search\" in statement:\n",
        "            statement =statement.replace(\"search\",\" \")\n",
        "            webbrowser.open_new_tab(\"statement\")\n",
        "            time.sleep(5)\n",
        "            \n",
        "        elif \"ask\" in statement :\n",
        "            speak(\"I can answer to computational and geographical question too just try me !! what do you want to ask\")\n",
        "            question =takeCommand()\n",
        "            app_id =\"R2K75H-7ELALHR35X\"\n",
        "            client =wolframalpha.Client('R2K75H-7ELALHR35X')\n",
        "            res = client.query(question)\n",
        "            answer=next(res.results).text\n",
        "            speak(answer)\n",
        "            print(answer)\n",
        "            \n",
        "        elif \"log off\" in statement or \"sign out\" in statement or \"shut down\" in statement:\n",
        "            speak(\"ok,Your PC  will shut down in 20 sec make sure every thing is saved\")\n",
        "            subprocess.call(['shutdown',\"/1\"])\n",
        "            \n",
        "time.sleep(3)"
      ],
      "execution_count": null,
      "outputs": [
        {
          "output_type": "stream",
          "text": [
            "hello, good evening Mr. AJAY\n",
            " I am Listening\n",
            "User said:Wikipedia what is a neutron star\n",
            "\n",
            "A neutron star is the collapsed core of a massive supergiant star, which had a total mass of between 10 and 25 solar masses, possibly more if the star was especially metal-rich. Except for black holes, and some hypothetical objects (e.g. white holes, quark stars, and strange stars), neutron stars are the smallest and densest currently known class of stellar objects.\n",
            " I am Listening\n",
            "User said:I want to ask you something\n",
            "\n",
            " I am Listening\n",
            "User said:what is distance between the Earth and Sun\n",
            "\n",
            "0.9842 au (astronomical units)\n",
            " I am Listening\n",
            "User said:what is the time\n",
            "\n",
            " I am Listening\n",
            "User said:who are you\n",
            "\n",
            " I am Listening\n",
            "User said:who made you\n",
            "\n",
            " I am Listening\n",
            "User said:what the weather now\n",
            "\n",
            " I am Listening\n",
            "User said:Bangalore\n",
            "\n",
            "the temperature in kalvin units is296.28\n",
            " humidity in percentage is69\n",
            " weather descriptionfew clouds\n",
            " I am Listening\n",
            "User said:ok bye\n",
            "\n",
            "Your personal AI assistant Jarvis is shutting down, Good Bye\n"
          ],
          "name": "stdout"
        }
      ]
    },
    {
      "cell_type": "code",
      "metadata": {
        "id": "Bt3Vgd6ocohJ"
      },
      "source": [
        ""
      ],
      "execution_count": null,
      "outputs": []
    }
  ]
}