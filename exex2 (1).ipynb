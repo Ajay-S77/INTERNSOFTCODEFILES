{
  "nbformat": 4,
  "nbformat_minor": 0,
  "metadata": {
    "kernelspec": {
      "display_name": "Python 3",
      "language": "python",
      "name": "python3"
    },
    "language_info": {
      "codemirror_mode": {
        "name": "ipython",
        "version": 3
      },
      "file_extension": ".py",
      "mimetype": "text/x-python",
      "name": "python",
      "nbconvert_exporter": "python",
      "pygments_lexer": "ipython3",
      "version": "3.8.5"
    },
    "colab": {
      "name": "exex2.ipynb",
      "provenance": []
    }
  },
  "cells": [
    {
      "cell_type": "code",
      "metadata": {
        "id": "xI6_cODwWp8a",
        "outputId": "48f9c126-57a0-4d96-c901-d60307af1fb1"
      },
      "source": [
        "str = 'hello'\n",
        "str\n",
        "print(str[-1])\n",
        "print(str[2])"
      ],
      "execution_count": null,
      "outputs": [
        {
          "output_type": "stream",
          "text": [
            "o\n",
            "l\n"
          ],
          "name": "stdout"
        }
      ]
    },
    {
      "cell_type": "code",
      "metadata": {
        "id": "zzbs8u-SWp8j",
        "outputId": "3cb22dc0-0acf-4367-8fe9-ee5e834a7e81"
      },
      "source": [
        "'This is also a string'"
      ],
      "execution_count": null,
      "outputs": [
        {
          "output_type": "execute_result",
          "data": {
            "text/plain": [
              "'This is also a string'"
            ]
          },
          "metadata": {
            "tags": []
          },
          "execution_count": 5
        }
      ]
    },
    {
      "cell_type": "code",
      "metadata": {
        "id": "YhQU34UzWp8n",
        "outputId": "7f23cd2f-a76d-41bb-ad38-454699faac6f"
      },
      "source": [
        "\"String built with double quotes\""
      ],
      "execution_count": null,
      "outputs": [
        {
          "output_type": "execute_result",
          "data": {
            "text/plain": [
              "'String built with double quotes'"
            ]
          },
          "metadata": {
            "tags": []
          },
          "execution_count": 6
        }
      ]
    },
    {
      "cell_type": "code",
      "metadata": {
        "id": "nDSOIz4HWp8p",
        "outputId": "af5151b1-1c3c-4471-c576-d59eb9ecfcb7"
      },
      "source": [
        "\"I'm using double quotes, but will create an error\""
      ],
      "execution_count": null,
      "outputs": [
        {
          "output_type": "execute_result",
          "data": {
            "text/plain": [
              "\"I'm using double quotes, but will create an error\""
            ]
          },
          "metadata": {
            "tags": []
          },
          "execution_count": 9
        }
      ]
    },
    {
      "cell_type": "code",
      "metadata": {
        "id": "5rCCVAbFWp8r",
        "outputId": "9efe0da6-23b9-4b4f-fb4e-9e95c09e4551"
      },
      "source": [
        "\"Now I'm ready to use the single quotes inside a string!\""
      ],
      "execution_count": null,
      "outputs": [
        {
          "output_type": "execute_result",
          "data": {
            "text/plain": [
              "\"Now I'm ready to use the single quotes inside a string!\""
            ]
          },
          "metadata": {
            "tags": []
          },
          "execution_count": 10
        }
      ]
    },
    {
      "cell_type": "code",
      "metadata": {
        "colab": {
          "base_uri": "https://localhost:8080/",
          "height": 35
        },
        "id": "MBNyj8ZdWp8t",
        "outputId": "db9b9a44-3929-4cfc-94c0-1c50d9c2bd0f"
      },
      "source": [
        "'Hello World'\n",
        "'hi Ajay here,how are you'"
      ],
      "execution_count": 1,
      "outputs": [
        {
          "output_type": "execute_result",
          "data": {
            "application/vnd.google.colaboratory.intrinsic+json": {
              "type": "string"
            },
            "text/plain": [
              "'hi Ajay here,how are you'"
            ]
          },
          "metadata": {
            "tags": []
          },
          "execution_count": 1
        }
      ]
    },
    {
      "cell_type": "code",
      "metadata": {
        "id": "yPIKYbLiWp8v",
        "outputId": "58378b9b-0155-4d94-cea1-540b3fc4dfa0"
      },
      "source": [
        "'Hello World 1'\n",
        "'Hello World 2'"
      ],
      "execution_count": null,
      "outputs": [
        {
          "output_type": "execute_result",
          "data": {
            "text/plain": [
              "'Hello World 2'"
            ]
          },
          "metadata": {
            "tags": []
          },
          "execution_count": 13
        }
      ]
    },
    {
      "cell_type": "code",
      "metadata": {
        "colab": {
          "base_uri": "https://localhost:8080/",
          "height": 129
        },
        "id": "mq8OpryoWp8w",
        "outputId": "3c10e3ea-628e-4eca-cf3c-1a1de7c1ee1d"
      },
      "source": [
        "print 'Hello World 1'\n",
        "print 'Hello World 2'\n",
        "print 'Use \\n to print a new line'\n",
        "print '\\n'\n",
        "print 'See what I mean?'"
      ],
      "execution_count": 2,
      "outputs": [
        {
          "output_type": "error",
          "ename": "SyntaxError",
          "evalue": "ignored",
          "traceback": [
            "\u001b[0;36m  File \u001b[0;32m\"<ipython-input-2-3c2f3251395a>\"\u001b[0;36m, line \u001b[0;32m1\u001b[0m\n\u001b[0;31m    print 'Hello World 1'\u001b[0m\n\u001b[0m                        ^\u001b[0m\n\u001b[0;31mSyntaxError\u001b[0m\u001b[0;31m:\u001b[0m Missing parentheses in call to 'print'. Did you mean print('Hello World 1')?\n"
          ]
        }
      ]
    },
    {
      "cell_type": "code",
      "metadata": {
        "id": "xVWSnBMqWp8y",
        "outputId": "2a1c5c5f-12ec-47a3-dfcf-8fb2781d3df4"
      },
      "source": [
        "from __future__ import print_function\n",
        "print 'Hello World'"
      ],
      "execution_count": null,
      "outputs": [
        {
          "output_type": "error",
          "ename": "SyntaxError",
          "evalue": "Missing parentheses in call to 'print'. Did you mean print('Hello World')? (<ipython-input-15-ccac5adbb6ce>, line 4)",
          "traceback": [
            "\u001b[1;36m  File \u001b[1;32m\"<ipython-input-15-ccac5adbb6ce>\"\u001b[1;36m, line \u001b[1;32m4\u001b[0m\n\u001b[1;33m    print 'Hello World'\u001b[0m\n\u001b[1;37m          ^\u001b[0m\n\u001b[1;31mSyntaxError\u001b[0m\u001b[1;31m:\u001b[0m Missing parentheses in call to 'print'. Did you mean print('Hello World')?\n"
          ]
        }
      ]
    },
    {
      "cell_type": "code",
      "metadata": {
        "id": "PzapKziYWp80",
        "outputId": "fcc847cb-b3b4-4553-cd24-57371e411048"
      },
      "source": [
        "len('Hello World')"
      ],
      "execution_count": null,
      "outputs": [
        {
          "output_type": "execute_result",
          "data": {
            "text/plain": [
              "11"
            ]
          },
          "metadata": {
            "tags": []
          },
          "execution_count": 17
        }
      ]
    },
    {
      "cell_type": "code",
      "metadata": {
        "id": "huGk7NctWp81"
      },
      "source": [
        "s = 'Hello World'\n",
        "s1=s"
      ],
      "execution_count": null,
      "outputs": []
    },
    {
      "cell_type": "code",
      "metadata": {
        "id": "yPFEfyH7Wp82",
        "outputId": "774fa090-b731-4139-b597-2e1c478f56a4"
      },
      "source": [
        "s\n",
        "print(s[-1])"
      ],
      "execution_count": null,
      "outputs": [
        {
          "output_type": "stream",
          "text": [
            "d\n"
          ],
          "name": "stdout"
        }
      ]
    },
    {
      "cell_type": "code",
      "metadata": {
        "id": "BjvRtbTfWp84",
        "outputId": "ddaa760c-59e2-49d8-c1c6-11e6728b61c5"
      },
      "source": [
        "print(s) "
      ],
      "execution_count": null,
      "outputs": [
        {
          "output_type": "stream",
          "text": [
            "Hello World\n"
          ],
          "name": "stdout"
        }
      ]
    },
    {
      "cell_type": "code",
      "metadata": {
        "id": "ZTMJlQjxWp85",
        "outputId": "781ee7ba-b820-4979-d757-f320d51b1e77"
      },
      "source": [
        "s[0]"
      ],
      "execution_count": null,
      "outputs": [
        {
          "output_type": "execute_result",
          "data": {
            "text/plain": [
              "'H'"
            ]
          },
          "metadata": {
            "tags": []
          },
          "execution_count": 16
        }
      ]
    },
    {
      "cell_type": "code",
      "metadata": {
        "id": "V8GS-zHcWp86",
        "outputId": "8e8752e9-7207-4923-b25a-4d70632d139c"
      },
      "source": [
        "s[1]"
      ],
      "execution_count": null,
      "outputs": [
        {
          "output_type": "execute_result",
          "data": {
            "text/plain": [
              "'e'"
            ]
          },
          "metadata": {
            "tags": []
          },
          "execution_count": 29
        }
      ]
    },
    {
      "cell_type": "code",
      "metadata": {
        "id": "tKEylnIxWp88",
        "outputId": "a673e2c9-8d3e-4274-90d7-ce7be6c42d47"
      },
      "source": [
        "s[2]"
      ],
      "execution_count": null,
      "outputs": [
        {
          "output_type": "execute_result",
          "data": {
            "text/plain": [
              "'l'"
            ]
          },
          "metadata": {
            "tags": []
          },
          "execution_count": 30
        }
      ]
    },
    {
      "cell_type": "code",
      "metadata": {
        "id": "0CkIF8U8Wp8_",
        "outputId": "839d485b-4ede-46c7-a187-3afd932a193a"
      },
      "source": [
        "s[1:]"
      ],
      "execution_count": null,
      "outputs": [
        {
          "output_type": "execute_result",
          "data": {
            "text/plain": [
              "'ello World'"
            ]
          },
          "metadata": {
            "tags": []
          },
          "execution_count": 32
        }
      ]
    },
    {
      "cell_type": "code",
      "metadata": {
        "id": "-s2vvUupWp9A",
        "outputId": "42fa7465-f6a8-45fe-840a-78e2481d7a26"
      },
      "source": [
        "s"
      ],
      "execution_count": null,
      "outputs": [
        {
          "output_type": "execute_result",
          "data": {
            "text/plain": [
              "'Hello World'"
            ]
          },
          "metadata": {
            "tags": []
          },
          "execution_count": 33
        }
      ]
    },
    {
      "cell_type": "code",
      "metadata": {
        "id": "euo0YRo9Wp9B",
        "outputId": "6befe01d-aa96-4f99-a8b2-3e70098f2a51"
      },
      "source": [
        "s[:3]"
      ],
      "execution_count": null,
      "outputs": [
        {
          "output_type": "execute_result",
          "data": {
            "text/plain": [
              "'Hel'"
            ]
          },
          "metadata": {
            "tags": []
          },
          "execution_count": 34
        }
      ]
    },
    {
      "cell_type": "code",
      "metadata": {
        "id": "G0P8P2lDWp9D",
        "outputId": "dfd6d45c-9779-4fff-deba-72e6ded398fa"
      },
      "source": [
        "s[:]"
      ],
      "execution_count": null,
      "outputs": [
        {
          "output_type": "execute_result",
          "data": {
            "text/plain": [
              "'Hello World'"
            ]
          },
          "metadata": {
            "tags": []
          },
          "execution_count": 37
        }
      ]
    },
    {
      "cell_type": "code",
      "metadata": {
        "id": "ST5oK-NtWp9E",
        "outputId": "ab15088d-fe79-4d0a-e4c1-3996f6e9a583"
      },
      "source": [
        "s[:-1]"
      ],
      "execution_count": null,
      "outputs": [
        {
          "output_type": "execute_result",
          "data": {
            "text/plain": [
              "'Hello Worl'"
            ]
          },
          "metadata": {
            "tags": []
          },
          "execution_count": 39
        }
      ]
    },
    {
      "cell_type": "code",
      "metadata": {
        "id": "07z-NzM6Wp9F",
        "outputId": "7a48bf61-f3a5-4a1b-bff4-6f08ddc89cdd"
      },
      "source": [
        "s[::1]"
      ],
      "execution_count": null,
      "outputs": [
        {
          "output_type": "execute_result",
          "data": {
            "text/plain": [
              "'Hello World'"
            ]
          },
          "metadata": {
            "tags": []
          },
          "execution_count": 40
        }
      ]
    },
    {
      "cell_type": "code",
      "metadata": {
        "id": "5cqK4QTCWp9G",
        "outputId": "8aef82d6-67f7-45af-be8c-d029d14c4dd2"
      },
      "source": [
        "s[::2]"
      ],
      "execution_count": null,
      "outputs": [
        {
          "output_type": "execute_result",
          "data": {
            "text/plain": [
              "'HloWrd'"
            ]
          },
          "metadata": {
            "tags": []
          },
          "execution_count": 42
        }
      ]
    },
    {
      "cell_type": "code",
      "metadata": {
        "id": "PRpafhisWp9H",
        "outputId": "4e6230ed-4e3a-47f1-9f97-96640477c8c3"
      },
      "source": [
        "s[::-1]"
      ],
      "execution_count": null,
      "outputs": [
        {
          "output_type": "execute_result",
          "data": {
            "text/plain": [
              "'dlroW olleH'"
            ]
          },
          "metadata": {
            "tags": []
          },
          "execution_count": 43
        }
      ]
    },
    {
      "cell_type": "code",
      "metadata": {
        "id": "mNRJuuhLWp9I",
        "outputId": "8093decf-4456-4a97-d9d6-619beb7e45ce"
      },
      "source": [
        "s"
      ],
      "execution_count": null,
      "outputs": [
        {
          "output_type": "execute_result",
          "data": {
            "text/plain": [
              "'Hello World'"
            ]
          },
          "metadata": {
            "tags": []
          },
          "execution_count": 44
        }
      ]
    },
    {
      "cell_type": "code",
      "metadata": {
        "id": "X4NDTDIDWp9J",
        "outputId": "03a17b69-e678-455b-a281-98da18de9523"
      },
      "source": [
        "s[0] = 'x'"
      ],
      "execution_count": null,
      "outputs": [
        {
          "output_type": "error",
          "ename": "TypeError",
          "evalue": "'str' object does not support item assignment",
          "traceback": [
            "\u001b[1;31m---------------------------------------------------------------------------\u001b[0m",
            "\u001b[1;31mTypeError\u001b[0m                                 Traceback (most recent call last)",
            "\u001b[1;32m<ipython-input-45-976942677f11>\u001b[0m in \u001b[0;36m<module>\u001b[1;34m\u001b[0m\n\u001b[0;32m      1\u001b[0m \u001b[1;31m# Let's try to change the first letter to 'x'\u001b[0m\u001b[1;33m\u001b[0m\u001b[1;33m\u001b[0m\u001b[1;33m\u001b[0m\u001b[0m\n\u001b[1;32m----> 2\u001b[1;33m \u001b[0ms\u001b[0m\u001b[1;33m[\u001b[0m\u001b[1;36m0\u001b[0m\u001b[1;33m]\u001b[0m \u001b[1;33m=\u001b[0m \u001b[1;34m'x'\u001b[0m\u001b[1;33m\u001b[0m\u001b[1;33m\u001b[0m\u001b[0m\n\u001b[0m",
            "\u001b[1;31mTypeError\u001b[0m: 'str' object does not support item assignment"
          ]
        }
      ]
    },
    {
      "cell_type": "code",
      "metadata": {
        "id": "piJh-GIOWp9L",
        "outputId": "5646ecfd-1d73-4f35-88ee-6a271e4bfd97"
      },
      "source": [
        "s"
      ],
      "execution_count": null,
      "outputs": [
        {
          "output_type": "execute_result",
          "data": {
            "text/plain": [
              "'Hello World'"
            ]
          },
          "metadata": {
            "tags": []
          },
          "execution_count": 46
        }
      ]
    },
    {
      "cell_type": "code",
      "metadata": {
        "id": "VhEBvCZCWp9M",
        "outputId": "59c77f27-459a-4947-c057-859447f0cbb9"
      },
      "source": [
        "s + ' concatenate me!'"
      ],
      "execution_count": null,
      "outputs": [
        {
          "output_type": "execute_result",
          "data": {
            "text/plain": [
              "'Hello World concatenate me!'"
            ]
          },
          "metadata": {
            "tags": []
          },
          "execution_count": 31
        }
      ]
    },
    {
      "cell_type": "code",
      "metadata": {
        "id": "WljpDLBxWp9N"
      },
      "source": [
        "s = s + ' concatenate me!'"
      ],
      "execution_count": null,
      "outputs": []
    },
    {
      "cell_type": "code",
      "metadata": {
        "id": "La_TwKsxWp9N",
        "outputId": "204650e6-b0e9-44b9-bee8-4efce65e3e49"
      },
      "source": [
        "print(s)"
      ],
      "execution_count": null,
      "outputs": [
        {
          "output_type": "stream",
          "text": [
            "Hello World concatenate me! concatenate me!\n"
          ],
          "name": "stdout"
        }
      ]
    },
    {
      "cell_type": "code",
      "metadata": {
        "id": "oQ-roQ5SWp9O",
        "outputId": "7ad10a2c-001b-43e3-c05b-61102cdcf1e1"
      },
      "source": [
        "s"
      ],
      "execution_count": null,
      "outputs": [
        {
          "output_type": "execute_result",
          "data": {
            "text/plain": [
              "'Hello World concatenate me!'"
            ]
          },
          "metadata": {
            "tags": []
          },
          "execution_count": 51
        }
      ]
    },
    {
      "cell_type": "code",
      "metadata": {
        "id": "HA_O9aJTWp9P",
        "outputId": "cf0706ea-2b46-4493-ae4f-4a9cf428bfc1"
      },
      "source": [
        "letter = 'z'\n",
        "letter"
      ],
      "execution_count": null,
      "outputs": [
        {
          "output_type": "execute_result",
          "data": {
            "text/plain": [
              "'z'"
            ]
          },
          "metadata": {
            "tags": []
          },
          "execution_count": 56
        }
      ]
    },
    {
      "cell_type": "code",
      "metadata": {
        "id": "hF12sZQaWp9Q",
        "outputId": "9b29669d-e4df-4440-acd2-797573c6ac23"
      },
      "source": [
        "letter*20"
      ],
      "execution_count": null,
      "outputs": [
        {
          "output_type": "execute_result",
          "data": {
            "text/plain": [
              "'zzzzzzzzzzzzzzzzzzzz'"
            ]
          },
          "metadata": {
            "tags": []
          },
          "execution_count": 58
        }
      ]
    },
    {
      "cell_type": "code",
      "metadata": {
        "id": "aK4P8BQBWp9R",
        "outputId": "b718f200-4ea4-4b3b-c230-5ea89b1c6121"
      },
      "source": [
        "s"
      ],
      "execution_count": null,
      "outputs": [
        {
          "output_type": "execute_result",
          "data": {
            "text/plain": [
              "'Hello World concatenate me! concatenate me!'"
            ]
          },
          "metadata": {
            "tags": []
          },
          "execution_count": 59
        }
      ]
    },
    {
      "cell_type": "code",
      "metadata": {
        "id": "p68yChbcWp9T",
        "outputId": "e7e2fcd3-7216-45ca-c602-61e942d7e356"
      },
      "source": [
        "s.upper()"
      ],
      "execution_count": null,
      "outputs": [
        {
          "output_type": "execute_result",
          "data": {
            "text/plain": [
              "'HELLO WORLD CONCATENATE ME! CONCATENATE ME!'"
            ]
          },
          "metadata": {
            "tags": []
          },
          "execution_count": 60
        }
      ]
    },
    {
      "cell_type": "code",
      "metadata": {
        "id": "O6gPtS-pWp9U",
        "outputId": "4ce3e95f-5e7d-458b-cdb6-607873c32814"
      },
      "source": [
        "s.lower()"
      ],
      "execution_count": null,
      "outputs": [
        {
          "output_type": "execute_result",
          "data": {
            "text/plain": [
              "'hello world concatenate me! concatenate me!'"
            ]
          },
          "metadata": {
            "tags": []
          },
          "execution_count": 61
        }
      ]
    },
    {
      "cell_type": "code",
      "metadata": {
        "id": "6vMrKzXSWp9V",
        "outputId": "00b55685-49e5-4fde-fe51-414219676de7"
      },
      "source": [
        "s.split()"
      ],
      "execution_count": null,
      "outputs": [
        {
          "output_type": "execute_result",
          "data": {
            "text/plain": [
              "['Hello', 'World', 'concatenate', 'me!', 'concatenate', 'me!']"
            ]
          },
          "metadata": {
            "tags": []
          },
          "execution_count": 62
        }
      ]
    },
    {
      "cell_type": "code",
      "metadata": {
        "id": "WLa9GIJGWp9W",
        "outputId": "1e7163b8-8fb8-4aa3-98f5-e958ae5b0bd8"
      },
      "source": [
        "s.split('o')"
      ],
      "execution_count": null,
      "outputs": [
        {
          "output_type": "execute_result",
          "data": {
            "text/plain": [
              "['Hell', ' W', 'rld c', 'ncatenate me!']"
            ]
          },
          "metadata": {
            "tags": []
          },
          "execution_count": 42
        }
      ]
    },
    {
      "cell_type": "code",
      "metadata": {
        "scrolled": true,
        "id": "Qc9sP5GmWp9X",
        "outputId": "e53eb516-cbdd-4807-f636-41b762162bb4"
      },
      "source": [
        "'Insert another string with curly brackets:{}'.format({'The inserted string'})"
      ],
      "execution_count": null,
      "outputs": [
        {
          "output_type": "execute_result",
          "data": {
            "text/plain": [
              "\"Insert another string with curly brackets:{'The inserted string'}\""
            ]
          },
          "metadata": {
            "tags": []
          },
          "execution_count": 63
        }
      ]
    },
    {
      "cell_type": "code",
      "metadata": {
        "id": "QA_-N4xhWp9Y",
        "outputId": "e1bbba17-b322-495f-9e8a-54366c70210a"
      },
      "source": [
        "print(s)\n",
        "s.count('o')"
      ],
      "execution_count": null,
      "outputs": [
        {
          "output_type": "stream",
          "text": [
            "Hello World concatenate me! concatenate me!\n"
          ],
          "name": "stdout"
        },
        {
          "output_type": "execute_result",
          "data": {
            "text/plain": [
              "4"
            ]
          },
          "metadata": {
            "tags": []
          },
          "execution_count": 64
        }
      ]
    },
    {
      "cell_type": "code",
      "metadata": {
        "id": "YdLQZjDKWp9Z",
        "outputId": "b1738483-4ffc-4077-bb78-f1cb83402cb9"
      },
      "source": [
        "s.find('o')"
      ],
      "execution_count": null,
      "outputs": [
        {
          "output_type": "execute_result",
          "data": {
            "text/plain": [
              "4"
            ]
          },
          "metadata": {
            "tags": []
          },
          "execution_count": 65
        }
      ]
    },
    {
      "cell_type": "code",
      "metadata": {
        "id": "uxURUL-qWp9a",
        "outputId": "96003efd-a1a4-4d2c-c26f-5cafd856d04a"
      },
      "source": [
        "s.center(65,'z')"
      ],
      "execution_count": null,
      "outputs": [
        {
          "output_type": "execute_result",
          "data": {
            "text/plain": [
              "'zzzzzzzzzzzHello World concatenate me! concatenate me!zzzzzzzzzzz'"
            ]
          },
          "metadata": {
            "tags": []
          },
          "execution_count": 70
        }
      ]
    },
    {
      "cell_type": "code",
      "metadata": {
        "colab": {
          "base_uri": "https://localhost:8080/",
          "height": 35
        },
        "id": "2xlHoXYQWp9b",
        "outputId": "4be5706c-a682-45b6-c8b3-464419419627"
      },
      "source": [
        "'hello\\thi'.expandtabs()\n",
        "'ajay\\there'.expandtabs()"
      ],
      "execution_count": 3,
      "outputs": [
        {
          "output_type": "execute_result",
          "data": {
            "application/vnd.google.colaboratory.intrinsic+json": {
              "type": "string"
            },
            "text/plain": [
              "'ajay    here'"
            ]
          },
          "metadata": {
            "tags": []
          },
          "execution_count": 3
        }
      ]
    },
    {
      "cell_type": "code",
      "metadata": {
        "id": "tDxIAWX8Wp9c"
      },
      "source": [
        "s = 'hello'"
      ],
      "execution_count": null,
      "outputs": []
    },
    {
      "cell_type": "code",
      "metadata": {
        "id": "Sc87zidxWp9d",
        "outputId": "7aeecaf0-6a51-4569-ee79-e3efe77a9832"
      },
      "source": [
        "s.isalnum()"
      ],
      "execution_count": null,
      "outputs": [
        {
          "output_type": "execute_result",
          "data": {
            "text/plain": [
              "True"
            ]
          },
          "metadata": {
            "tags": []
          },
          "execution_count": 75
        }
      ]
    },
    {
      "cell_type": "code",
      "metadata": {
        "id": "_UTkyBNzWp9e",
        "outputId": "43e7d44b-0ecb-4766-a654-39a13ded96d3"
      },
      "source": [
        "s.isalpha()"
      ],
      "execution_count": null,
      "outputs": [
        {
          "output_type": "execute_result",
          "data": {
            "text/plain": [
              "True"
            ]
          },
          "metadata": {
            "tags": []
          },
          "execution_count": 76
        }
      ]
    },
    {
      "cell_type": "code",
      "metadata": {
        "id": "uwyxNG0aWp9g",
        "outputId": "08c11e19-312f-4f1a-a300-7ab90e67e03a"
      },
      "source": [
        "s.islower()"
      ],
      "execution_count": null,
      "outputs": [
        {
          "output_type": "execute_result",
          "data": {
            "text/plain": [
              "True"
            ]
          },
          "metadata": {
            "tags": []
          },
          "execution_count": 77
        }
      ]
    },
    {
      "cell_type": "code",
      "metadata": {
        "id": "nV9Q1q-FWp9h",
        "outputId": "5620507d-b8ee-49c4-f012-1dab8764c68f"
      },
      "source": [
        "s.isspace()"
      ],
      "execution_count": null,
      "outputs": [
        {
          "output_type": "execute_result",
          "data": {
            "text/plain": [
              "False"
            ]
          },
          "metadata": {
            "tags": []
          },
          "execution_count": 78
        }
      ]
    },
    {
      "cell_type": "code",
      "metadata": {
        "id": "ikotdIKzWp9i",
        "outputId": "4a90f3d4-18da-4f47-9034-cacceab98673"
      },
      "source": [
        "s.istitle()   \n"
      ],
      "execution_count": null,
      "outputs": [
        {
          "output_type": "execute_result",
          "data": {
            "text/plain": [
              "False"
            ]
          },
          "metadata": {
            "tags": []
          },
          "execution_count": 79
        }
      ]
    },
    {
      "cell_type": "code",
      "metadata": {
        "id": "CtUOJnB5Wp9j",
        "outputId": "69603f92-87ad-4e6c-dedc-ea4182e8647b"
      },
      "source": [
        "s.isupper()"
      ],
      "execution_count": null,
      "outputs": [
        {
          "output_type": "execute_result",
          "data": {
            "text/plain": [
              "False"
            ]
          },
          "metadata": {
            "tags": []
          },
          "execution_count": 80
        }
      ]
    },
    {
      "cell_type": "code",
      "metadata": {
        "id": "wIdj62QUWp9k",
        "outputId": "a3fcd2e8-52f5-48fa-d27c-1f3c26d1adcc"
      },
      "source": [
        "s.endswith('o')"
      ],
      "execution_count": null,
      "outputs": [
        {
          "output_type": "execute_result",
          "data": {
            "text/plain": [
              "True"
            ]
          },
          "metadata": {
            "tags": []
          },
          "execution_count": 81
        }
      ]
    },
    {
      "cell_type": "code",
      "metadata": {
        "id": "nBRLda9CWp9m",
        "outputId": "378fafa1-316c-41da-cbce-db347a50cb27"
      },
      "source": [
        "s.split('e')"
      ],
      "execution_count": null,
      "outputs": [
        {
          "output_type": "execute_result",
          "data": {
            "text/plain": [
              "['h', 'llo']"
            ]
          },
          "metadata": {
            "tags": []
          },
          "execution_count": 82
        }
      ]
    },
    {
      "cell_type": "code",
      "metadata": {
        "id": "j8IxdpqhWp9o",
        "outputId": "be11f72a-9b82-42d0-b761-7ce983ca27a1"
      },
      "source": [
        "s.partition('l')"
      ],
      "execution_count": null,
      "outputs": [
        {
          "output_type": "execute_result",
          "data": {
            "text/plain": [
              "('he', 'l', 'lo')"
            ]
          },
          "metadata": {
            "tags": []
          },
          "execution_count": 85
        }
      ]
    },
    {
      "cell_type": "code",
      "metadata": {
        "id": "4YFsS2rhWp9q",
        "outputId": "e4250fda-0dd7-4a0e-8a2f-fdc38e6b576d"
      },
      "source": [
        "s"
      ],
      "execution_count": null,
      "outputs": [
        {
          "output_type": "execute_result",
          "data": {
            "text/plain": [
              "'hello'"
            ]
          },
          "metadata": {
            "tags": []
          },
          "execution_count": 84
        }
      ]
    },
    {
      "cell_type": "code",
      "metadata": {
        "id": "jOyW200qWp9r",
        "outputId": "e619c14d-0f06-4a67-bc60-e4d657ea2a90"
      },
      "source": [
        "my_list = [1,2,3]\n",
        "my_list"
      ],
      "execution_count": null,
      "outputs": [
        {
          "output_type": "execute_result",
          "data": {
            "text/plain": [
              "[1, 2, 3]"
            ]
          },
          "metadata": {
            "tags": []
          },
          "execution_count": 89
        }
      ]
    },
    {
      "cell_type": "code",
      "metadata": {
        "id": "XpaE73uYWp9s",
        "outputId": "b9a5f8af-87a5-4e82-86e7-4f74cc0a39a7"
      },
      "source": [
        "my_list = ['A string',23,100.232,'o']\n",
        "my_list"
      ],
      "execution_count": null,
      "outputs": [
        {
          "output_type": "execute_result",
          "data": {
            "text/plain": [
              "['A string', 23, 100.232, 'o']"
            ]
          },
          "metadata": {
            "tags": []
          },
          "execution_count": 90
        }
      ]
    },
    {
      "cell_type": "code",
      "metadata": {
        "id": "onjP48PTWp9t",
        "outputId": "6fbb532d-fb6e-4e0a-b12c-2e4fd9719a5f"
      },
      "source": [
        "len(my_list)"
      ],
      "execution_count": null,
      "outputs": [
        {
          "output_type": "execute_result",
          "data": {
            "text/plain": [
              "4"
            ]
          },
          "metadata": {
            "tags": []
          },
          "execution_count": 91
        }
      ]
    },
    {
      "cell_type": "code",
      "metadata": {
        "id": "Ohfj6THlWp9u"
      },
      "source": [
        "my_list = ['one','two','three',4,5]"
      ],
      "execution_count": null,
      "outputs": []
    },
    {
      "cell_type": "code",
      "metadata": {
        "id": "VyKo7m-0Wp9v",
        "outputId": "37c52f21-6acd-49ff-dcd1-24f549e9d554"
      },
      "source": [
        "my_list[0]"
      ],
      "execution_count": null,
      "outputs": [
        {
          "output_type": "execute_result",
          "data": {
            "text/plain": [
              "'one'"
            ]
          },
          "metadata": {
            "tags": []
          },
          "execution_count": 93
        }
      ]
    },
    {
      "cell_type": "code",
      "metadata": {
        "id": "Ao6ap0qjWp9w",
        "outputId": "6e8b7b4a-c529-400f-e573-74df1110ed09"
      },
      "source": [
        "my_list[1:]"
      ],
      "execution_count": null,
      "outputs": [
        {
          "output_type": "execute_result",
          "data": {
            "text/plain": [
              "['two', 'three', 4, 5]"
            ]
          },
          "metadata": {
            "tags": []
          },
          "execution_count": 94
        }
      ]
    },
    {
      "cell_type": "code",
      "metadata": {
        "id": "iYi63bsMWp9x",
        "outputId": "c3a22ec4-1170-423f-f9e1-619485ca4ddd"
      },
      "source": [
        "my_list[:3]"
      ],
      "execution_count": null,
      "outputs": [
        {
          "output_type": "execute_result",
          "data": {
            "text/plain": [
              "['one', 'two', 'three']"
            ]
          },
          "metadata": {
            "tags": []
          },
          "execution_count": 95
        }
      ]
    },
    {
      "cell_type": "code",
      "metadata": {
        "id": "XIyVARxbWp9y",
        "outputId": "4beec9db-d7a5-47c2-c480-c634d14081e3"
      },
      "source": [
        "my_list + ['new item']"
      ],
      "execution_count": null,
      "outputs": [
        {
          "output_type": "execute_result",
          "data": {
            "text/plain": [
              "['one', 'two', 'three', 4, 5, 'add new item permanently', 'new item']"
            ]
          },
          "metadata": {
            "tags": []
          },
          "execution_count": 103
        }
      ]
    },
    {
      "cell_type": "code",
      "metadata": {
        "id": "JscgA4-oWp9z",
        "outputId": "467ef9e7-3aec-4ef5-dc39-0ad205c29723"
      },
      "source": [
        "my_list"
      ],
      "execution_count": null,
      "outputs": [
        {
          "output_type": "execute_result",
          "data": {
            "text/plain": [
              "['one', 'two', 'three', 4, 5, 'add new item permanently']"
            ]
          },
          "metadata": {
            "tags": []
          },
          "execution_count": 104
        }
      ]
    },
    {
      "cell_type": "code",
      "metadata": {
        "id": "UeNO1tPJWp91"
      },
      "source": [
        "my_list = my_list + ['add new item permanently']"
      ],
      "execution_count": null,
      "outputs": []
    },
    {
      "cell_type": "code",
      "metadata": {
        "id": "Z1eL_602Wp92",
        "outputId": "797e358f-2297-4136-96c4-4e4973230973"
      },
      "source": [
        "my_list"
      ],
      "execution_count": null,
      "outputs": [
        {
          "output_type": "execute_result",
          "data": {
            "text/plain": [
              "['one',\n",
              " 'two',\n",
              " 'three',\n",
              " 4,\n",
              " 5,\n",
              " 'add new item permanently',\n",
              " 'add new item permanently']"
            ]
          },
          "metadata": {
            "tags": []
          },
          "execution_count": 106
        }
      ]
    },
    {
      "cell_type": "code",
      "metadata": {
        "id": "ZD8g9OXPWp93",
        "outputId": "e6e11ce2-af91-43ea-98f4-e7c300383775"
      },
      "source": [
        "\n",
        "my_list=my_list * 3"
      ],
      "execution_count": null,
      "outputs": [
        {
          "output_type": "execute_result",
          "data": {
            "text/plain": [
              "['one',\n",
              " 'two',\n",
              " 'three',\n",
              " 4,\n",
              " 5,\n",
              " 'add new item permanently',\n",
              " 'add new item permanently',\n",
              " 'one',\n",
              " 'two',\n",
              " 'three',\n",
              " 4,\n",
              " 5,\n",
              " 'add new item permanently',\n",
              " 'add new item permanently',\n",
              " 'one',\n",
              " 'two',\n",
              " 'three',\n",
              " 4,\n",
              " 5,\n",
              " 'add new item permanently',\n",
              " 'add new item permanently']"
            ]
          },
          "metadata": {
            "tags": []
          },
          "execution_count": 108
        }
      ]
    },
    {
      "cell_type": "code",
      "metadata": {
        "id": "GiPDjs0oWp95",
        "outputId": "c2c7dd2c-885b-4509-a8fd-49c3ede93aee"
      },
      "source": [
        "my_list"
      ],
      "execution_count": null,
      "outputs": [
        {
          "output_type": "execute_result",
          "data": {
            "text/plain": [
              "['one',\n",
              " 'two',\n",
              " 'three',\n",
              " 4,\n",
              " 5,\n",
              " 'add new item permanently',\n",
              " 'add new item permanently',\n",
              " 'add new item permanently']"
            ]
          },
          "metadata": {
            "tags": []
          },
          "execution_count": 111
        }
      ]
    },
    {
      "cell_type": "code",
      "metadata": {
        "id": "6XoIOMaNWp9_"
      },
      "source": [
        "l = [1,2,3]"
      ],
      "execution_count": null,
      "outputs": []
    },
    {
      "cell_type": "code",
      "metadata": {
        "id": "r9br4xXAWp-A"
      },
      "source": [
        "l.append('append me!')"
      ],
      "execution_count": null,
      "outputs": []
    },
    {
      "cell_type": "code",
      "metadata": {
        "id": "jVyNK7ZCWp-B",
        "outputId": "05269507-7a3f-4690-80c0-9837b8200c97"
      },
      "source": [
        "l\n",
        "l.append('hi')\n",
        "l"
      ],
      "execution_count": null,
      "outputs": [
        {
          "output_type": "execute_result",
          "data": {
            "text/plain": [
              "[1, 2, 3, 'append me!', 'hi']"
            ]
          },
          "metadata": {
            "tags": []
          },
          "execution_count": 115
        }
      ]
    },
    {
      "cell_type": "code",
      "metadata": {
        "id": "bRtBjN8ZWp-C",
        "outputId": "939853aa-4c44-4007-851c-d30ad7338962"
      },
      "source": [
        "l.pop(0)"
      ],
      "execution_count": null,
      "outputs": [
        {
          "output_type": "execute_result",
          "data": {
            "text/plain": [
              "1"
            ]
          },
          "metadata": {
            "tags": []
          },
          "execution_count": 116
        }
      ]
    },
    {
      "cell_type": "code",
      "metadata": {
        "id": "a4MP5NjAWp-D",
        "outputId": "47b74b82-573c-42e0-b929-7308a796a48d"
      },
      "source": [
        "l\n",
        "l.pop()\n",
        "l"
      ],
      "execution_count": null,
      "outputs": [
        {
          "output_type": "execute_result",
          "data": {
            "text/plain": [
              "[2, 3, 'append me!']"
            ]
          },
          "metadata": {
            "tags": []
          },
          "execution_count": 118
        }
      ]
    },
    {
      "cell_type": "code",
      "metadata": {
        "id": "ew3vDbE3Wp-F"
      },
      "source": [
        "popped_item = l.pop()"
      ],
      "execution_count": null,
      "outputs": []
    },
    {
      "cell_type": "code",
      "metadata": {
        "id": "EnaDXbbUWp-G",
        "outputId": "e8980f30-08f9-4dd6-fc6a-e9903ecfa1a7"
      },
      "source": [
        "popped_item"
      ],
      "execution_count": null,
      "outputs": [
        {
          "output_type": "execute_result",
          "data": {
            "text/plain": [
              "3"
            ]
          },
          "metadata": {
            "tags": []
          },
          "execution_count": 122
        }
      ]
    },
    {
      "cell_type": "code",
      "metadata": {
        "id": "OjEzs0m1Wp-H",
        "outputId": "e32a069a-e160-4a38-f290-3d5dd87c2f4c"
      },
      "source": [
        "l"
      ],
      "execution_count": null,
      "outputs": [
        {
          "output_type": "execute_result",
          "data": {
            "text/plain": [
              "[2]"
            ]
          },
          "metadata": {
            "tags": []
          },
          "execution_count": 123
        }
      ]
    },
    {
      "cell_type": "code",
      "metadata": {
        "id": "_z8I7ib7Wp-I",
        "outputId": "dce947aa-fc0e-48af-b2bd-3fd88d262476"
      },
      "source": [
        "l[100]"
      ],
      "execution_count": null,
      "outputs": [
        {
          "output_type": "error",
          "ename": "IndexError",
          "evalue": "list index out of range",
          "traceback": [
            "\u001b[1;31m---------------------------------------------------------------------------\u001b[0m",
            "\u001b[1;31mIndexError\u001b[0m                                Traceback (most recent call last)",
            "\u001b[1;32m<ipython-input-124-e2a0c2623844>\u001b[0m in \u001b[0;36m<module>\u001b[1;34m\u001b[0m\n\u001b[1;32m----> 1\u001b[1;33m \u001b[0ml\u001b[0m\u001b[1;33m[\u001b[0m\u001b[1;36m100\u001b[0m\u001b[1;33m]\u001b[0m\u001b[1;33m\u001b[0m\u001b[1;33m\u001b[0m\u001b[0m\n\u001b[0m",
            "\u001b[1;31mIndexError\u001b[0m: list index out of range"
          ]
        }
      ]
    },
    {
      "cell_type": "code",
      "metadata": {
        "id": "fQZbgeFpWp-J"
      },
      "source": [
        "new_list = ['a','e','x','b','c']"
      ],
      "execution_count": null,
      "outputs": []
    },
    {
      "cell_type": "code",
      "metadata": {
        "id": "tXrsGdo9Wp-K",
        "outputId": "b6c352d4-d543-4136-ec05-4bdccfa18e4a"
      },
      "source": [
        "new_list"
      ],
      "execution_count": null,
      "outputs": [
        {
          "output_type": "execute_result",
          "data": {
            "text/plain": [
              "['a', 'e', 'x', 'b', 'c']"
            ]
          },
          "metadata": {
            "tags": []
          },
          "execution_count": 126
        }
      ]
    },
    {
      "cell_type": "code",
      "metadata": {
        "id": "jmRQerB-Wp-L"
      },
      "source": [
        "new_list.reverse()"
      ],
      "execution_count": null,
      "outputs": []
    },
    {
      "cell_type": "code",
      "metadata": {
        "id": "mO9JwKL3Wp-M",
        "outputId": "a032e848-e70f-4a20-c5f0-17dfbff95eb5"
      },
      "source": [
        "new_list"
      ],
      "execution_count": null,
      "outputs": [
        {
          "output_type": "execute_result",
          "data": {
            "text/plain": [
              "['c', 'b', 'x', 'e', 'a']"
            ]
          },
          "metadata": {
            "tags": []
          },
          "execution_count": 128
        }
      ]
    },
    {
      "cell_type": "code",
      "metadata": {
        "id": "goH0wsDVWp-N"
      },
      "source": [
        "new_list.sort()"
      ],
      "execution_count": null,
      "outputs": []
    },
    {
      "cell_type": "code",
      "metadata": {
        "id": "rdBvNf8_Wp-N",
        "outputId": "6d7aded4-2d30-4d20-a3aa-420813006b0f"
      },
      "source": [
        "new_list"
      ],
      "execution_count": null,
      "outputs": [
        {
          "output_type": "execute_result",
          "data": {
            "text/plain": [
              "['a', 'b', 'c', 'e', 'x']"
            ]
          },
          "metadata": {
            "tags": []
          },
          "execution_count": 130
        }
      ]
    },
    {
      "cell_type": "code",
      "metadata": {
        "id": "TwrQmRnoWp-Z"
      },
      "source": [
        "lst_1=[1,2,3]\n",
        "lst_2=[4,5,6]\n",
        "lst_3=[7,8,9]\n",
        "\n",
        "\n",
        "matrix = [lst_1,lst_2,lst_3]"
      ],
      "execution_count": null,
      "outputs": []
    },
    {
      "cell_type": "code",
      "metadata": {
        "id": "CYSiV0wsWp-a",
        "outputId": "ca70d383-d99d-463b-d781-412375498b25"
      },
      "source": [
        "matrix"
      ],
      "execution_count": null,
      "outputs": [
        {
          "output_type": "execute_result",
          "data": {
            "text/plain": [
              "[[1, 2, 3], [4, 5, 6], [7, 8, 9]]"
            ]
          },
          "metadata": {
            "tags": []
          },
          "execution_count": 132
        }
      ]
    },
    {
      "cell_type": "code",
      "metadata": {
        "id": "kBJc4TW3Wp-a",
        "outputId": "195b3cb2-f081-42b4-8cc2-2800250f71b8"
      },
      "source": [
        "matrix[0]"
      ],
      "execution_count": null,
      "outputs": [
        {
          "output_type": "execute_result",
          "data": {
            "text/plain": [
              "[1, 2, 3]"
            ]
          },
          "metadata": {
            "tags": []
          },
          "execution_count": 136
        }
      ]
    },
    {
      "cell_type": "code",
      "metadata": {
        "id": "wpdOJBKFWp-b",
        "outputId": "c9cb2547-f363-44d6-91a5-a8d2d8055dd0"
      },
      "source": [
        "matrix[2][2]"
      ],
      "execution_count": null,
      "outputs": [
        {
          "output_type": "execute_result",
          "data": {
            "text/plain": [
              "9"
            ]
          },
          "metadata": {
            "tags": []
          },
          "execution_count": 141
        }
      ]
    },
    {
      "cell_type": "code",
      "metadata": {
        "id": "30Hy27OYWp-c"
      },
      "source": [
        "first_col = [row[2] for row in matrix]"
      ],
      "execution_count": null,
      "outputs": []
    },
    {
      "cell_type": "code",
      "metadata": {
        "id": "f92Vj9JyWp-d",
        "outputId": "8b8e0035-12c3-4c92-95dd-b6d836b6cb8c"
      },
      "source": [
        "first_col"
      ],
      "execution_count": null,
      "outputs": [
        {
          "output_type": "execute_result",
          "data": {
            "text/plain": [
              "[3, 6, 9]"
            ]
          },
          "metadata": {
            "tags": []
          },
          "execution_count": 146
        }
      ]
    },
    {
      "cell_type": "code",
      "metadata": {
        "id": "VtylNYpkWp-d"
      },
      "source": [
        "l = [1,2,3]"
      ],
      "execution_count": null,
      "outputs": []
    },
    {
      "cell_type": "code",
      "metadata": {
        "id": "GYlfrUTQWp-e",
        "outputId": "3c14714b-bb6f-4b88-e5f8-96a4f30b65fa"
      },
      "source": [
        "l.append(4)\n",
        "\n",
        "l"
      ],
      "execution_count": null,
      "outputs": [
        {
          "output_type": "execute_result",
          "data": {
            "text/plain": [
              "[1, 2, 3, 4]"
            ]
          },
          "metadata": {
            "tags": []
          },
          "execution_count": 148
        }
      ]
    },
    {
      "cell_type": "code",
      "metadata": {
        "id": "YJ0UNspwWp-f",
        "outputId": "5f2710aa-b76f-418e-adcd-4ff869a80bde"
      },
      "source": [
        "l.count(2)\n",
        "l.append(10*2)\n",
        "l"
      ],
      "execution_count": null,
      "outputs": [
        {
          "output_type": "execute_result",
          "data": {
            "text/plain": [
              "[1, 2, 3, 4, 20, 20, 20]"
            ]
          },
          "metadata": {
            "tags": []
          },
          "execution_count": 156
        }
      ]
    },
    {
      "cell_type": "code",
      "metadata": {
        "id": "9y9pf3IHWp-g",
        "outputId": "443912c2-6158-4264-acd4-e2c3fd2b2d22"
      },
      "source": [
        "l.count(20)"
      ],
      "execution_count": null,
      "outputs": [
        {
          "output_type": "execute_result",
          "data": {
            "text/plain": [
              "3"
            ]
          },
          "metadata": {
            "tags": []
          },
          "execution_count": 157
        }
      ]
    },
    {
      "cell_type": "code",
      "metadata": {
        "id": "HvkXuVmHWp-h",
        "outputId": "7eb21df0-2f9f-482d-994d-d96d1a1045b0"
      },
      "source": [
        "x = [1, 2, 3]\n",
        "x.append([4, 5])\n",
        "print(x)"
      ],
      "execution_count": null,
      "outputs": [
        {
          "output_type": "stream",
          "text": [
            "[1, 2, 3, [4, 5]]\n"
          ],
          "name": "stdout"
        }
      ]
    },
    {
      "cell_type": "code",
      "metadata": {
        "id": "THUDkp96Wp-h",
        "outputId": "2439d1b8-2a0c-41a6-9114-b3f616911158"
      },
      "source": [
        "x = [1, 2, 3]\n",
        "x.extend([4, 5])\n",
        "print(x)"
      ],
      "execution_count": null,
      "outputs": [
        {
          "output_type": "stream",
          "text": [
            "[1, 2, 3, 4, 5]\n"
          ],
          "name": "stdout"
        }
      ]
    },
    {
      "cell_type": "code",
      "metadata": {
        "id": "3YKvpsy8Wp-i",
        "outputId": "9a573173-0143-4069-c937-75355550bd99"
      },
      "source": [
        "print(l)\n",
        "l.index(2)"
      ],
      "execution_count": null,
      "outputs": [
        {
          "output_type": "stream",
          "text": [
            "[1, 2, 3, 4, 20, 20, 20]\n"
          ],
          "name": "stdout"
        },
        {
          "output_type": "execute_result",
          "data": {
            "text/plain": [
              "1"
            ]
          },
          "metadata": {
            "tags": []
          },
          "execution_count": 160
        }
      ]
    },
    {
      "cell_type": "code",
      "metadata": {
        "id": "46sOOKnqWp-j",
        "outputId": "e9d0616d-5092-4330-f5cb-990981fbfdcf"
      },
      "source": [
        "l.index(3)"
      ],
      "execution_count": null,
      "outputs": [
        {
          "output_type": "execute_result",
          "data": {
            "text/plain": [
              "2"
            ]
          },
          "metadata": {
            "tags": []
          },
          "execution_count": 162
        }
      ]
    },
    {
      "cell_type": "code",
      "metadata": {
        "id": "g7hx6jkDWp-k",
        "outputId": "26755190-d2e8-4837-fc34-79735183ac09"
      },
      "source": [
        "l"
      ],
      "execution_count": null,
      "outputs": [
        {
          "output_type": "execute_result",
          "data": {
            "text/plain": [
              "[1, 2, 3, 4, 20, 20, 20]"
            ]
          },
          "metadata": {
            "tags": []
          },
          "execution_count": 163
        }
      ]
    },
    {
      "cell_type": "code",
      "metadata": {
        "id": "DcafrDJGWp-l"
      },
      "source": [
        "\n",
        "l.insert(2,'inserted')"
      ],
      "execution_count": null,
      "outputs": []
    },
    {
      "cell_type": "code",
      "metadata": {
        "id": "Sdts-O34Wp-m",
        "outputId": "75f02df2-1aec-41dd-d75f-7e142ad171b4"
      },
      "source": [
        "l"
      ],
      "execution_count": null,
      "outputs": [
        {
          "output_type": "execute_result",
          "data": {
            "text/plain": [
              "[1, 2, 'inserted', 3, 4, 20, 20, 20]"
            ]
          },
          "metadata": {
            "tags": []
          },
          "execution_count": 165
        }
      ]
    },
    {
      "cell_type": "code",
      "metadata": {
        "id": "VROw0GqjWp-o"
      },
      "source": [
        "ele = l.pop()"
      ],
      "execution_count": null,
      "outputs": []
    },
    {
      "cell_type": "code",
      "metadata": {
        "id": "BvwPkWUcWp-p",
        "outputId": "a8709f19-e942-4a8c-a395-b5a839eb8ad0"
      },
      "source": [
        "l"
      ],
      "execution_count": null,
      "outputs": [
        {
          "output_type": "execute_result",
          "data": {
            "text/plain": [
              "[1, 2, 'inserted', 3, 4, 20, 20]"
            ]
          },
          "metadata": {
            "tags": []
          },
          "execution_count": 167
        }
      ]
    },
    {
      "cell_type": "code",
      "metadata": {
        "id": "ap7nvs3fWp-r",
        "outputId": "29e531f4-8afc-4b1e-b260-22d4b7b2d77c"
      },
      "source": [
        "ele"
      ],
      "execution_count": null,
      "outputs": [
        {
          "output_type": "execute_result",
          "data": {
            "text/plain": [
              "20"
            ]
          },
          "metadata": {
            "tags": []
          },
          "execution_count": 168
        }
      ]
    },
    {
      "cell_type": "code",
      "metadata": {
        "id": "89VVVGzbWp-s",
        "outputId": "957e76b6-6ecc-4bed-d694-2f899a75cb4c"
      },
      "source": [
        "l"
      ],
      "execution_count": null,
      "outputs": [
        {
          "output_type": "execute_result",
          "data": {
            "text/plain": [
              "[1, 2, 'inserted', 3, 4, 20, 20]"
            ]
          },
          "metadata": {
            "tags": []
          },
          "execution_count": 169
        }
      ]
    },
    {
      "cell_type": "code",
      "metadata": {
        "id": "fSn7z7DdWp-t"
      },
      "source": [
        "l.remove('inserted')"
      ],
      "execution_count": null,
      "outputs": []
    },
    {
      "cell_type": "code",
      "metadata": {
        "id": "mvDM_X3TWp-u",
        "outputId": "3176ceed-b2cb-4ec6-ffcc-0fe65ce5c41d"
      },
      "source": [
        "l"
      ],
      "execution_count": null,
      "outputs": [
        {
          "output_type": "execute_result",
          "data": {
            "text/plain": [
              "[1, 2, 3, 4, 20, 20]"
            ]
          },
          "metadata": {
            "tags": []
          },
          "execution_count": 171
        }
      ]
    },
    {
      "cell_type": "code",
      "metadata": {
        "id": "HYRSCPCzWp-u"
      },
      "source": [
        "l = [1,2,3,4,3]"
      ],
      "execution_count": null,
      "outputs": []
    },
    {
      "cell_type": "code",
      "metadata": {
        "id": "LX61ywkyWp-v"
      },
      "source": [
        "l.remove(4)"
      ],
      "execution_count": null,
      "outputs": []
    },
    {
      "cell_type": "code",
      "metadata": {
        "id": "hPZb-YfRWp-w",
        "outputId": "79eb33ff-300b-4cd9-cb17-b67c325a3511"
      },
      "source": [
        "l"
      ],
      "execution_count": null,
      "outputs": [
        {
          "output_type": "execute_result",
          "data": {
            "text/plain": [
              "[1, 2, 3]"
            ]
          },
          "metadata": {
            "tags": []
          },
          "execution_count": 184
        }
      ]
    },
    {
      "cell_type": "code",
      "metadata": {
        "id": "p8IvMWc2Wp-x"
      },
      "source": [
        "l.reverse()"
      ],
      "execution_count": null,
      "outputs": []
    },
    {
      "cell_type": "code",
      "metadata": {
        "id": "iAMYwNIeWp-x",
        "outputId": "185be2e9-b470-4da5-dcbf-fc1f6a209719"
      },
      "source": [
        "l"
      ],
      "execution_count": null,
      "outputs": [
        {
          "output_type": "execute_result",
          "data": {
            "text/plain": [
              "[1, 2, 3]"
            ]
          },
          "metadata": {
            "tags": []
          },
          "execution_count": 185
        }
      ]
    },
    {
      "cell_type": "code",
      "metadata": {
        "id": "l2iIVl5gWp-y",
        "outputId": "6df2deba-015c-4b50-ce60-1526fad8342f"
      },
      "source": [
        "l"
      ],
      "execution_count": null,
      "outputs": [
        {
          "output_type": "execute_result",
          "data": {
            "text/plain": [
              "[1, 2, 3]"
            ]
          },
          "metadata": {
            "tags": []
          },
          "execution_count": 186
        }
      ]
    },
    {
      "cell_type": "code",
      "metadata": {
        "id": "cA62hi1DWp-z"
      },
      "source": [
        "l.sort()"
      ],
      "execution_count": null,
      "outputs": []
    },
    {
      "cell_type": "code",
      "metadata": {
        "id": "aLSNFnIFWp-0",
        "outputId": "856e6515-8f0d-4e1d-9ef6-abc1573dacef"
      },
      "source": [
        "l"
      ],
      "execution_count": null,
      "outputs": [
        {
          "output_type": "execute_result",
          "data": {
            "text/plain": [
              "[1, 2, 3]"
            ]
          },
          "metadata": {
            "tags": []
          },
          "execution_count": 187
        }
      ]
    },
    {
      "cell_type": "code",
      "metadata": {
        "id": "Ks-Jr51HWp-0"
      },
      "source": [
        ""
      ],
      "execution_count": null,
      "outputs": []
    }
  ]
}